{
  "nbformat": 4,
  "nbformat_minor": 0,
  "metadata": {
    "colab": {
      "name": "Tarea 6, Gomez Arreola Diego Armando.ipynb",
      "provenance": [],
      "authorship_tag": "ABX9TyOexUQ31dUP385SOmiFIN0v",
      "include_colab_link": true
    },
    "kernelspec": {
      "name": "python3",
      "display_name": "Python 3"
    },
    "language_info": {
      "name": "python"
    }
  },
  "cells": [
    {
      "cell_type": "markdown",
      "metadata": {
        "id": "view-in-github",
        "colab_type": "text"
      },
      "source": [
        "<a href=\"https://colab.research.google.com/github/DiegoArreola23/CyP-1157/blob/main/Tarea_6%2C_Gomez_Arreola_Diego_Armando.ipynb\" target=\"_parent\"><img src=\"https://colab.research.google.com/assets/colab-badge.svg\" alt=\"Open In Colab\"/></a>"
      ]
    },
    {
      "cell_type": "markdown",
      "metadata": {
        "id": "C9YjzfoLvTap"
      },
      "source": [
        "#Ejercicio 2.1"
      ]
    },
    {
      "cell_type": "code",
      "metadata": {
        "colab": {
          "base_uri": "https://localhost:8080/"
        },
        "id": "QGbCTNjV3k77",
        "outputId": "e920a1ca-7d95-49c3-950e-0bff0e7162d1"
      },
      "source": [
        "0.N = int(input(\"Dame un número: \"))\n",
        "T = 0\n",
        "if N > 0:\n",
        "    T = N/4 +40\n",
        "print(T)\n",
        "print(\"FIN DEL PROGRAMA\")"
      ],
      "execution_count": null,
      "outputs": [
        {
          "output_type": "stream",
          "name": "stdout",
          "text": [
            "Dame un número: 50\n",
            "52.5\n",
            "FIN DEL PROGRAMA\n"
          ]
        }
      ]
    },
    {
      "cell_type": "markdown",
      "metadata": {
        "id": "7b4KaayCvnU0"
      },
      "source": [
        "#Ejercicio 2.2"
      ]
    },
    {
      "cell_type": "code",
      "metadata": {
        "colab": {
          "base_uri": "https://localhost:8080/"
        },
        "id": "xyMHWQGL45lO",
        "outputId": "f28b1658-fae9-4747-a01e-116f490f280a"
      },
      "source": [
        "P = int(input(\"Dame un número: \"))\n",
        "Q = int(input(\"Dame otro número: \"))\n",
        "EXP = 0\n",
        "EXP = P**3 + Q**4 - 2*P**2\n",
        "if EXP < 680:\n",
        "    print(f\"{P} , {Q}\")\n",
        "print(EXP)\n",
        "print(\"FIN DEL PROGRAMA\") "
      ],
      "execution_count": null,
      "outputs": [
        {
          "output_type": "stream",
          "name": "stdout",
          "text": [
            "Dame un número: 2\n",
            "Dame otro número: 6\n",
            "1296\n",
            "FIN DEL PROGRAMA\n"
          ]
        }
      ]
    },
    {
      "cell_type": "markdown",
      "metadata": {
        "id": "KiYBsirmvike"
      },
      "source": [
        "#Ejercicio 2.3"
      ]
    },
    {
      "cell_type": "code",
      "metadata": {
        "colab": {
          "base_uri": "https://localhost:8080/"
        },
        "id": "keqLwCtc-sxu",
        "outputId": "d832aabd-dd79-4cfd-f044-d7f48a7cb0e4"
      },
      "source": [
        "A = float(input(\"Dame un número: \"))\n",
        "B = float(input(\"Dame otro número: \"))\n",
        "C = float(input(\"Dame otro número: \"))\n",
        "DIS = B**2 - 4*A*C\n",
        "X1 = 0\n",
        "X2 = 0\n",
        "\n",
        "if DIS >= 0:\n",
        "    X1 = (-B + (DIS**0.5))/(2*A)\n",
        "    X2 = (-B - (DIS**0.5))/(2*A) \n",
        "\n",
        "print(DIS)\n",
        "print(f\"Las raíces reales son: X1 = {X1} , X2 = {X2}\")\n",
        "print(\"FIN DEL PROGRAMA\")"
      ],
      "execution_count": null,
      "outputs": [
        {
          "output_type": "stream",
          "name": "stdout",
          "text": [
            "Dame un número: 3\n",
            "Dame otro número: 9\n",
            "Dame otro número: 1.5\n",
            "63.0\n",
            "Las raíces reales son: X1 = -0.17712434446770464 , X2 = -2.8228756555322954\n",
            "FIN DEL PROGRAMA\n"
          ]
        }
      ]
    },
    {
      "cell_type": "markdown",
      "metadata": {
        "id": "rjBB0crNvhIO"
      },
      "source": [
        "#Ejercicio 2.4"
      ]
    },
    {
      "cell_type": "code",
      "metadata": {
        "colab": {
          "base_uri": "https://localhost:8080/"
        },
        "id": "wpN8vMNUIB9A",
        "outputId": "d416523a-8842-4b20-a330-b3e64c8890db"
      },
      "source": [
        "MAT = int(input(\"Dime la matrícula del alumno: \"))\n",
        "CAL1 = float(input(\"Dime la calificación que obtuviste en tu primera materia: \"))\n",
        "CAL2 = float(input(\"Dime la calificación que obtuviste en tu segunda materia: \"))\n",
        "CAL3 = float(input(\"Dime la calificación que obtuviste en tu tercera materia: \"))\n",
        "CAL4 = float(input(\"Dime la calificación que obtuviste en tu cuarta materia: \"))\n",
        "CAL5 = float(input(\"Dime la calificación que obtuviste en tu quinta materia: \"))\n",
        "PROM = (CAL1 + CAL2 + CAL3 + CAL4 + CAL5)/5\n",
        "\n",
        "if PROM >= 6:\n",
        "    print( MAT , PROM )\n",
        "    print(\"APROBADO\")\n",
        "else:\n",
        "    print( f\"Matrícula del alumno: {MAT} , Promedio del alumno: {PROM}\" )\n",
        "    print(\"REPROBADO\")\n",
        "\n",
        "print(\"FIN DEL PROGRAMA\")"
      ],
      "execution_count": null,
      "outputs": [
        {
          "output_type": "stream",
          "name": "stdout",
          "text": [
            "Dime la matrícula del alumno: 18250\n",
            "Dime la calificación que obtuviste en tu primera materia: 9\n",
            "Dime la calificación que obtuviste en tu segunda materia: 9.25\n",
            "Dime la calificación que obtuviste en tu tercera materia: 8.10\n",
            "Dime la calificación que obtuviste en tu cuarta materia: 9.80\n",
            "Dime la calificación que obtuviste en tu quinta materia: 10\n",
            "18250 9.23\n",
            "APROBADO\n",
            "FIN DEL PROGRAMA\n"
          ]
        }
      ]
    },
    {
      "cell_type": "markdown",
      "metadata": {
        "id": "vJ-IbNuCvlwE"
      },
      "source": [
        "#Ejercicio 2.5"
      ]
    },
    {
      "cell_type": "code",
      "metadata": {
        "colab": {
          "base_uri": "https://localhost:8080/"
        },
        "id": "1yOuP81GLFc_",
        "outputId": "84605456-4b62-45e7-d7af-9fdebc8126f1"
      },
      "source": [
        "NUM = int(input(\"Dame un número entero: \"))\n",
        "\n",
        "if NUM > 0:\n",
        "    print(\"POSITIVO\")\n",
        "else:\n",
        "    if NUM == 0:\n",
        "        print(\"NULO\")\n",
        "    else:\n",
        "        print(\"NEGATIVO\")\n",
        "\n",
        "print(\"FIN DEL PROGRAMA\")"
      ],
      "execution_count": null,
      "outputs": [
        {
          "output_type": "stream",
          "name": "stdout",
          "text": [
            "Dame un número entero: -15\n",
            "NEGATIVO\n",
            "FIN DEL PROGRAMA\n"
          ]
        }
      ]
    },
    {
      "cell_type": "markdown",
      "metadata": {
        "id": "F5pyHgCyvm3r"
      },
      "source": [
        "#Ejercicio 2.6"
      ]
    },
    {
      "cell_type": "code",
      "metadata": {
        "colab": {
          "base_uri": "https://localhost:8080/"
        },
        "id": "-h_2zbSGL360",
        "outputId": "07eb3676-6533-412c-b920-85bf643454f7"
      },
      "source": [
        "A = int(input(\"Dame un número entero: \"))\n",
        "\n",
        "if A == 0:\n",
        "    print(\"NULO\")\n",
        "else:\n",
        "    if (-1)**A > 0:\n",
        "        print(\"PAR\")\n",
        "    else:\n",
        "        print(\"IMPAR\")\n",
        "\n",
        "print(\"FIN DEL PROGRAMA\")"
      ],
      "execution_count": null,
      "outputs": [
        {
          "output_type": "stream",
          "name": "stdout",
          "text": [
            "Dame un número entero: 4\n",
            "PAR\n",
            "FIN DEL PROGRAMA\n"
          ]
        }
      ]
    },
    {
      "cell_type": "markdown",
      "metadata": {
        "id": "yVMqR4LHvm_L"
      },
      "source": [
        "#Ejercicio 2.7"
      ]
    },
    {
      "cell_type": "code",
      "metadata": {
        "colab": {
          "base_uri": "https://localhost:8080/"
        },
        "id": "XTv1zRztNEEx",
        "outputId": "954666c8-5d52-4abc-d07c-5eeb0c1cda7d"
      },
      "source": [
        "A = int(input(\"Dame un número entero: \"))\n",
        "B = int(input(\"Dame otro número entero diferente: \"))\n",
        "C = int(input(\"Dame otro número entero diferente: \"))\n",
        "if A < B:\n",
        "    if B < C:\n",
        "        print(\"Los números están en orden creciente\")\n",
        "    else:\n",
        "        print(\"Los números no están en orden creciente\")\n",
        "else:\n",
        "    print(\"Los números no estan en orden creciente\")\n",
        "print( f\"{A} , {B} , {C}\")\n",
        "print(\"FIN DEL PROGRAMA\")"
      ],
      "execution_count": null,
      "outputs": [
        {
          "output_type": "stream",
          "name": "stdout",
          "text": [
            "Dame un número entero: 10\n",
            "Dame otro número entero diferente: 120\n",
            "Dame otro número entero diferente: 124\n",
            "Los números están en orden creciente\n",
            "10 , 120 , 124\n",
            "FIN DEL PROGRAMA\n"
          ]
        }
      ]
    },
    {
      "cell_type": "markdown",
      "metadata": {
        "id": "jI8OGvRovnF0"
      },
      "source": [
        "#Ejercicio 2.8"
      ]
    },
    {
      "cell_type": "code",
      "metadata": {
        "colab": {
          "base_uri": "https://localhost:8080/"
        },
        "id": "ftX49o9m_L9R",
        "outputId": "f4941ced-3400-4277-de08-5dc6813d7ca1"
      },
      "source": [
        "COMPRA = float(input(\"Dame la cantidad gastada en tu compra: \"))\n",
        "PAGAR = 0\n",
        "if COMPRA < 500:\n",
        "    PAGAR = COMPRA\n",
        "else:\n",
        "    if COMPRA <= 1000:\n",
        "        PAGAR = COMPRA - (COMPRA*0.05)\n",
        "    else:\n",
        "        if COMPRA <= 7000:\n",
        "            PAGAR = COMPRA - (COMPRA*0.11)\n",
        "        else:\n",
        "            if COMPRA <= 15000:\n",
        "                PAGAR = COMPRA - (COMPRA*0.18)\n",
        "            else:\n",
        "                PAGAR = COMPRA - (COMPRA*0.25)\n",
        "\n",
        "print(f\"El total a pargar es de: {PAGAR}\")\n",
        "print(\"FIN DEL PROGRAMA\")"
      ],
      "execution_count": null,
      "outputs": [
        {
          "output_type": "stream",
          "name": "stdout",
          "text": [
            "Dame la cantidad gastada en tu compra: 1318.5\n",
            "El total a pargar es de: 1173.465\n",
            "FIN DEL PROGRAMA\n"
          ]
        }
      ]
    },
    {
      "cell_type": "markdown",
      "metadata": {
        "id": "3J6HREDEvnNK"
      },
      "source": [
        "#Ejercicio 2.9"
      ]
    },
    {
      "cell_type": "code",
      "metadata": {
        "colab": {
          "base_uri": "https://localhost:8080/"
        },
        "id": "BE8C58ecCOS-",
        "outputId": "53bb2667-1eb8-44a2-a0bc-20e7502d7cd4"
      },
      "source": [
        "PREBAS = float(input(\"Dame el precio original del producto: \"))\n",
        "IMP = 0\n",
        "if PREBAS > 500:\n",
        "    IMP = (20*0.30)+((PREBAS-40)*0.50)\n",
        "else:\n",
        "    if PREBAS > 40:\n",
        "        IMP = (20*0.30)+((PREBAS-40)*0.40)\n",
        "    else:\n",
        "        if PREBAS > 20:\n",
        "            IMP = (PREBAS-20)*0.30\n",
        "        else:\n",
        "            IMP = 0\n",
        "PRETOT = PREBAS + IMP\n",
        "print(f\"El precio original es de: {PREBAS}\")\n",
        "print(f\"El impuesto es de: {IMP}\")\n",
        "print(f\"El precio total es de: {PRETOT}\")\n",
        "print(\"FIN DEL PROGRAMA\")"
      ],
      "execution_count": null,
      "outputs": [
        {
          "output_type": "stream",
          "name": "stdout",
          "text": [
            "Dame el precio original del producto: 217.8\n",
            "El precio original es de: 217.8\n",
            "El impuesto es de: 77.12\n",
            "El precio total es de: 294.92\n",
            "FIN DEL PROGRAMA\n"
          ]
        }
      ]
    },
    {
      "cell_type": "markdown",
      "metadata": {
        "id": "OM0sbxD0vnar"
      },
      "source": [
        "#Ejercicio 2.10"
      ]
    },
    {
      "cell_type": "code",
      "metadata": {
        "colab": {
          "base_uri": "https://localhost:8080/"
        },
        "id": "XX71SI6JBg0B",
        "outputId": "0212dbd1-7d2a-4867-ecd1-f96d97cfb3da"
      },
      "source": [
        "A = float(input(\"Dame un número real: \"))\n",
        "B = float(input(\"Dame otro número real: \"))\n",
        "C = float(input(\"Dame otro número real: \"))\n",
        "if A > B:\n",
        "    if A > C:\n",
        "        print(\"A es el mayor\")\n",
        "    else:\n",
        "        if A == C:\n",
        "            print(\"A y C sonlos mayores\")\n",
        "        else:\n",
        "            print(\"C es el mayor\")\n",
        "else:\n",
        "    if A == B:\n",
        "        if A > C:\n",
        "            print(\"A y B son los mayores\")\n",
        "        else:\n",
        "            if A == C:\n",
        "                print(\"A, B y C son iguales\")\n",
        "            else:\n",
        "                print(\"C es el mayor\")\n",
        "    else:\n",
        "        if B > C:\n",
        "            print(\"B es el mayor\")\n",
        "        else:\n",
        "            if B == C:\n",
        "                print(\"B y C son los mayores\")\n",
        "            else:\n",
        "                print(\"C es el mayor\")\n",
        "print(f\"A = {A}, B = {B} , C = {C}\")\n",
        "print(\"FIN DEL PROGRAMA\")"
      ],
      "execution_count": null,
      "outputs": [
        {
          "output_type": "stream",
          "name": "stdout",
          "text": [
            "Dame un número real: 17\n",
            "Dame otro número real: 17\n",
            "Dame otro número real: 17\n",
            "A, B y C son iguales\n",
            "A = 17.0, B = 17.0 , C = 17.0\n",
            "FIN DEL PROGRAMA\n"
          ]
        }
      ]
    },
    {
      "cell_type": "markdown",
      "metadata": {
        "id": "4tgriTI1vniK"
      },
      "source": [
        "#Ejercicio 2.11"
      ]
    },
    {
      "cell_type": "code",
      "metadata": {
        "colab": {
          "base_uri": "https://localhost:8080/"
        },
        "id": "iSe1H1QiEJ3F",
        "outputId": "6aa74d32-7712-4c70-8094-6db454c4483e"
      },
      "source": [
        "CLAVE = int(input(\"Dame la clave de tu zona geográfica: \"))\n",
        "NUMIN = int(input(\"¿Cuánto duro la llamada? = \"))\n",
        "COST = 0\n",
        "CLAVES = {\"Países\":{\n",
        "            \"América del norte:\" : 12,\n",
        "            \"América central:\" : 15,\n",
        "            \"América del sur:\": 18,\n",
        "            \"Europa:\" : 19,\n",
        "            \"Asia:\" : 23,\n",
        "            \"África:\" : 25,\n",
        "            \"Oceanía:\" : 29}\n",
        "        }\n",
        "if CLAVE == 12:\n",
        "    COST = NUMIN*2\n",
        "if CLAVE == 15:\n",
        "    COST = NUMIN*2.2        \n",
        "if CLAVE == 18:\n",
        "    COST = NUMIN*4.5\n",
        "if CLAVE == 19:\n",
        "    COST = NUMIN*3.5\n",
        "if CLAVE == 23:\n",
        "    COST = NUMIN*6\n",
        "if CLAVE == 25:\n",
        "    COST = NUMIN*6\n",
        "if CLAVE == 29:\n",
        "    COST = NUMIN*5\n",
        "if CLAVE != 12 and CLAVE != 15 and CLAVE != 18 and CLAVE != 19 and CLAVE != 23 and CLAVE != 25 and CLAVE != 29:\n",
        "    print(\"No existe esa clave geográfica\")\n",
        "\n",
        "print(f\"Costo total de la llamada = {COST}\")\n",
        "print(\"FIN DEL PROGRAMA\")"
      ],
      "execution_count": null,
      "outputs": [
        {
          "output_type": "stream",
          "name": "stdout",
          "text": [
            "Dame la clave de tu zona geográfica: 18\n",
            "¿Cuánto duro la llamada? = 12\n",
            "Costo total de la llamada = 54.0\n"
          ]
        }
      ]
    },
    {
      "cell_type": "markdown",
      "metadata": {
        "id": "6z8UKwJwvnpq"
      },
      "source": [
        "#Ejercicio 2.12"
      ]
    },
    {
      "cell_type": "code",
      "metadata": {
        "colab": {
          "base_uri": "https://localhost:8080/"
        },
        "id": "gtagWYJ9I-SS",
        "outputId": "7ff00092-2417-414c-dc1d-2fd3c6d63db8"
      },
      "source": [
        "SUE = float(input(\"Dame tu sueldo: \"))\n",
        "CATE = int(input(\"Dime la categoría entre 1 y 4: \"))\n",
        "HE = int(input(\"¿Cuántas horas extra trabajaste?: \"))\n",
        "PHE = 0\n",
        "NSUE = 0\n",
        "\n",
        "if CATE == 1:\n",
        "    PHE = 30\n",
        "else:\n",
        "    if CATE == 2:\n",
        "        PHE = 38\n",
        "    else:    \n",
        "        if CATE == 3:\n",
        "            PHE = 50\n",
        "        else:\n",
        "                if CATE == 4:\n",
        "                    PHE = 70\n",
        "                else:\n",
        "                    if 1 >= CATE >= 4:\n",
        "                        PHE = 0\n",
        "if HE > 30:\n",
        "    NSUE = SUE+(30*PHE)\n",
        "else:\n",
        "    NSUE = SUE+(HE*PHE)\n",
        "print(f\"NSUE = {NSUE}\")\n",
        "print(f\"PHE = {PHE}\")  \n",
        "print(\"FIN DEL PROGRAMA\")"
      ],
      "execution_count": null,
      "outputs": [
        {
          "output_type": "stream",
          "name": "stdout",
          "text": [
            "Dame tu sueldo: 3200\n",
            "Dime la categoría entre 1 y 4: 3\n",
            "¿Cuántas horas extra trabajaste?: 8\n",
            "NSUE = 3600.0\n",
            "PHE = 50\n",
            "FIN DEL PROGRAMA\n"
          ]
        }
      ]
    },
    {
      "cell_type": "markdown",
      "metadata": {
        "id": "MuObp9LMvoK8"
      },
      "source": [
        "#Ejercicio 2.13"
      ]
    },
    {
      "cell_type": "code",
      "metadata": {
        "colab": {
          "base_uri": "https://localhost:8080/"
        },
        "id": "x2m8ZR-uMjvF",
        "outputId": "2bd05395-bec7-4a60-ba78-733a9f42f4c4"
      },
      "source": [
        "MAT = int(input(\"Escribe la matrícula del alumno: \"))\n",
        "CARR = str(input(\"¿Qué carrera cursa el alumno?: \"))\n",
        "SEM = int(input(\"¿Qué semestre tiene aprobado el alumno?: \"))\n",
        "PROM = float(input(\"Da el promedio del alumno: \"))\n",
        "\n",
        "if CARR == 'Economía':\n",
        "    if SEM >= 6 and PROM >= 8.8:\n",
        "        print(f\"{MAT}, {CARR}, Aceptado\")\n",
        "elif CARR == 'Computación':\n",
        "    if SEM > 6 and PROM > 8.5:\n",
        "        print(f\"{MAT}, {CARR}, Aceptado\")\n",
        "elif CARR == 'Contabilidad':\n",
        "    if SEM > 5 and PROM > 8.5:\n",
        "        print(f\"{MAT}, {CARR}, Aceptado\")\n",
        "elif CARR == 'Administración':\n",
        "    if SEM > 5 and PROM > 8.5:\n",
        "        print(f\"{MAT}, {CARR}, Aceptado\")      \n",
        "print(\"FIN DEL PROGRAMA\")"
      ],
      "execution_count": null,
      "outputs": [
        {
          "output_type": "stream",
          "name": "stdout",
          "text": [
            "Escribe la matrícula del alumno: 26100\n",
            "¿Qué carrera cursa el alumno?: Computación\n",
            "¿Qué semestre tiene aprobado el alumno?: 6\n",
            "Da el promedio del alumno: 9.2\n",
            "FIN DEL PROGRAMA\n"
          ]
        }
      ]
    }
  ]
}