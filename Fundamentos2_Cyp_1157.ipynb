{
  "nbformat": 4,
  "nbformat_minor": 0,
  "metadata": {
    "colab": {
      "name": "Fundamentos2_Cyp_1157.ipynb",
      "provenance": [],
      "authorship_tag": "ABX9TyOQQUvJe4F/NedZwGmGPEIN",
      "include_colab_link": true
    },
    "kernelspec": {
      "name": "python3",
      "display_name": "Python 3"
    },
    "language_info": {
      "name": "python"
    }
  },
  "cells": [
    {
      "cell_type": "markdown",
      "metadata": {
        "id": "view-in-github",
        "colab_type": "text"
      },
      "source": [
        "<a href=\"https://colab.research.google.com/github/DiegoArreola23/CyP-1157/blob/main/Fundamentos2_Cyp_1157.ipynb\" target=\"_parent\"><img src=\"https://colab.research.google.com/assets/colab-badge.svg\" alt=\"Open In Colab\"/></a>"
      ]
    },
    {
      "cell_type": "markdown",
      "metadata": {
        "id": "YnINavgIFg4n"
      },
      "source": [
        "# Tipos de datos estructurados de python\n",
        "1. Listas\n",
        "2. Tuplas\n",
        "3. Diccionarios\n",
        "4. Conjuntos(opcional)"
      ]
    },
    {
      "cell_type": "markdown",
      "metadata": {
        "id": "UdG4KO3AFwgn"
      },
      "source": [
        "# Listas\n",
        "- Tipo de dato que agrupa variables  o valores\n",
        "- Se declara con dos formas#\n",
        "     - usando [ ]\n",
        "     - usando list( )\n",
        "- Puede contener tipos de dato diversos (En otros lenguajes de prog. eso no es posible de forma directa)\n",
        "- Los elementos internos se seleccionan con [ ]\n",
        "- Soporta slicing\n",
        "- Son MUTABLES\n",
        "- GENERADORAS[ var for x in range(10)]\n",
        "- Al ser una clase contiene muchos metódos útiles"
      ]
    },
    {
      "cell_type": "code",
      "metadata": {
        "colab": {
          "base_uri": "https://localhost:8080/"
        },
        "id": "Qik0jZwcFXCA",
        "outputId": "d37ccaef-f226-41a9-f939-3ea3df13d153"
      },
      "source": [
        "números = [10, 5, 2, 3, 1]\n",
        "print(números)\n",
        "\n",
        "números2 = list()\n",
        "números2.append(10)\n",
        "números2.append(5)\n",
        "números2.append(2)\n",
        "números2.append(3)\n",
        "números2.append(1)\n",
        "print(números2)\n",
        "números[4] = 33\n",
        "print(números)"
      ],
      "execution_count": null,
      "outputs": [
        {
          "output_type": "stream",
          "name": "stdout",
          "text": [
            "[10, 5, 2, 3, 1]\n",
            "[10, 5, 2, 3, 1]\n",
            "[10, 5, 2, 3, 33]\n"
          ]
        }
      ]
    },
    {
      "cell_type": "code",
      "metadata": {
        "colab": {
          "base_uri": "https://localhost:8080/"
        },
        "id": "fnYTkCVnIfsk",
        "outputId": "9a65d032-aba2-4db9-cca1-0161cf94e925"
      },
      "source": [
        "# Tipos diversos\n",
        "\n",
        "cosas = [12, 2, True, \"José\", 1.57, ['pera', 'kiwi', 'uva']]\n",
        "print(cosas)\n",
        "print(cosas[1])\n",
        "print(cosas [4])\n",
        "print(cosas[5])\n",
        "print(cosas[5][1])\n",
        "print(cosas[3][1:3:])\n",
        "cosas[3]= cosas[3].upper()\n",
        "print(cosas)\n"
      ],
      "execution_count": null,
      "outputs": [
        {
          "output_type": "stream",
          "name": "stdout",
          "text": [
            "[12, 2, True, 'José', 1.57, ['pera', 'kiwi', 'uva']]\n",
            "2\n",
            "1.57\n",
            "['pera', 'kiwi', 'uva']\n",
            "kiwi\n",
            "os\n",
            "[12, 2, True, 'JOSÉ', 1.57, ['pera', 'kiwi', 'uva']]\n"
          ]
        }
      ]
    },
    {
      "cell_type": "code",
      "metadata": {
        "colab": {
          "base_uri": "https://localhost:8080/"
        },
        "id": "-tFBAucRMADP",
        "outputId": "2edbed06-2159-47e7-928b-c094fcc62c33"
      },
      "source": [
        "números = [1, 2 ,3 , 4, 5, 6, 7, 8, 9, 10, 11]\n",
        "print(números)\n",
        "#slicing\n",
        "#1.-[4 al 8]\n",
        "print(números[3:8:])\n",
        "#2.-[9 y 10]\n",
        "print(números[8:10:])\n",
        "#3.-Imprimir la lista en orden inversa (11, 10, 9, ...........,1)\n",
        "print(números[-1:-12:-1])"
      ],
      "execution_count": null,
      "outputs": [
        {
          "output_type": "stream",
          "name": "stdout",
          "text": [
            "[1, 2, 3, 4, 5, 6, 7, 8, 9, 10, 11]\n",
            "[4, 5, 6, 7, 8]\n",
            "[9, 10]\n",
            "[11, 10, 9, 8, 7, 6, 5, 4, 3, 2, 1]\n"
          ]
        }
      ]
    },
    {
      "cell_type": "code",
      "metadata": {
        "colab": {
          "base_uri": "https://localhost:8080/"
        },
        "id": "P_Uzj5eWPsGN",
        "outputId": "d500aad0-0afd-4239-99fa-9ac9e52cd9aa"
      },
      "source": [
        "# Crear una lista con un generador\n",
        "números = [ x*3 for x in range(1001)]\n",
        "print(números)"
      ],
      "execution_count": null,
      "outputs": [
        {
          "output_type": "stream",
          "name": "stdout",
          "text": [
            "[0, 3, 6, 9, 12, 15, 18, 21, 24, 27, 30, 33, 36, 39, 42, 45, 48, 51, 54, 57, 60, 63, 66, 69, 72, 75, 78, 81, 84, 87, 90, 93, 96, 99, 102, 105, 108, 111, 114, 117, 120, 123, 126, 129, 132, 135, 138, 141, 144, 147, 150, 153, 156, 159, 162, 165, 168, 171, 174, 177, 180, 183, 186, 189, 192, 195, 198, 201, 204, 207, 210, 213, 216, 219, 222, 225, 228, 231, 234, 237, 240, 243, 246, 249, 252, 255, 258, 261, 264, 267, 270, 273, 276, 279, 282, 285, 288, 291, 294, 297, 300, 303, 306, 309, 312, 315, 318, 321, 324, 327, 330, 333, 336, 339, 342, 345, 348, 351, 354, 357, 360, 363, 366, 369, 372, 375, 378, 381, 384, 387, 390, 393, 396, 399, 402, 405, 408, 411, 414, 417, 420, 423, 426, 429, 432, 435, 438, 441, 444, 447, 450, 453, 456, 459, 462, 465, 468, 471, 474, 477, 480, 483, 486, 489, 492, 495, 498, 501, 504, 507, 510, 513, 516, 519, 522, 525, 528, 531, 534, 537, 540, 543, 546, 549, 552, 555, 558, 561, 564, 567, 570, 573, 576, 579, 582, 585, 588, 591, 594, 597, 600, 603, 606, 609, 612, 615, 618, 621, 624, 627, 630, 633, 636, 639, 642, 645, 648, 651, 654, 657, 660, 663, 666, 669, 672, 675, 678, 681, 684, 687, 690, 693, 696, 699, 702, 705, 708, 711, 714, 717, 720, 723, 726, 729, 732, 735, 738, 741, 744, 747, 750, 753, 756, 759, 762, 765, 768, 771, 774, 777, 780, 783, 786, 789, 792, 795, 798, 801, 804, 807, 810, 813, 816, 819, 822, 825, 828, 831, 834, 837, 840, 843, 846, 849, 852, 855, 858, 861, 864, 867, 870, 873, 876, 879, 882, 885, 888, 891, 894, 897, 900, 903, 906, 909, 912, 915, 918, 921, 924, 927, 930, 933, 936, 939, 942, 945, 948, 951, 954, 957, 960, 963, 966, 969, 972, 975, 978, 981, 984, 987, 990, 993, 996, 999, 1002, 1005, 1008, 1011, 1014, 1017, 1020, 1023, 1026, 1029, 1032, 1035, 1038, 1041, 1044, 1047, 1050, 1053, 1056, 1059, 1062, 1065, 1068, 1071, 1074, 1077, 1080, 1083, 1086, 1089, 1092, 1095, 1098, 1101, 1104, 1107, 1110, 1113, 1116, 1119, 1122, 1125, 1128, 1131, 1134, 1137, 1140, 1143, 1146, 1149, 1152, 1155, 1158, 1161, 1164, 1167, 1170, 1173, 1176, 1179, 1182, 1185, 1188, 1191, 1194, 1197, 1200, 1203, 1206, 1209, 1212, 1215, 1218, 1221, 1224, 1227, 1230, 1233, 1236, 1239, 1242, 1245, 1248, 1251, 1254, 1257, 1260, 1263, 1266, 1269, 1272, 1275, 1278, 1281, 1284, 1287, 1290, 1293, 1296, 1299, 1302, 1305, 1308, 1311, 1314, 1317, 1320, 1323, 1326, 1329, 1332, 1335, 1338, 1341, 1344, 1347, 1350, 1353, 1356, 1359, 1362, 1365, 1368, 1371, 1374, 1377, 1380, 1383, 1386, 1389, 1392, 1395, 1398, 1401, 1404, 1407, 1410, 1413, 1416, 1419, 1422, 1425, 1428, 1431, 1434, 1437, 1440, 1443, 1446, 1449, 1452, 1455, 1458, 1461, 1464, 1467, 1470, 1473, 1476, 1479, 1482, 1485, 1488, 1491, 1494, 1497, 1500, 1503, 1506, 1509, 1512, 1515, 1518, 1521, 1524, 1527, 1530, 1533, 1536, 1539, 1542, 1545, 1548, 1551, 1554, 1557, 1560, 1563, 1566, 1569, 1572, 1575, 1578, 1581, 1584, 1587, 1590, 1593, 1596, 1599, 1602, 1605, 1608, 1611, 1614, 1617, 1620, 1623, 1626, 1629, 1632, 1635, 1638, 1641, 1644, 1647, 1650, 1653, 1656, 1659, 1662, 1665, 1668, 1671, 1674, 1677, 1680, 1683, 1686, 1689, 1692, 1695, 1698, 1701, 1704, 1707, 1710, 1713, 1716, 1719, 1722, 1725, 1728, 1731, 1734, 1737, 1740, 1743, 1746, 1749, 1752, 1755, 1758, 1761, 1764, 1767, 1770, 1773, 1776, 1779, 1782, 1785, 1788, 1791, 1794, 1797, 1800, 1803, 1806, 1809, 1812, 1815, 1818, 1821, 1824, 1827, 1830, 1833, 1836, 1839, 1842, 1845, 1848, 1851, 1854, 1857, 1860, 1863, 1866, 1869, 1872, 1875, 1878, 1881, 1884, 1887, 1890, 1893, 1896, 1899, 1902, 1905, 1908, 1911, 1914, 1917, 1920, 1923, 1926, 1929, 1932, 1935, 1938, 1941, 1944, 1947, 1950, 1953, 1956, 1959, 1962, 1965, 1968, 1971, 1974, 1977, 1980, 1983, 1986, 1989, 1992, 1995, 1998, 2001, 2004, 2007, 2010, 2013, 2016, 2019, 2022, 2025, 2028, 2031, 2034, 2037, 2040, 2043, 2046, 2049, 2052, 2055, 2058, 2061, 2064, 2067, 2070, 2073, 2076, 2079, 2082, 2085, 2088, 2091, 2094, 2097, 2100, 2103, 2106, 2109, 2112, 2115, 2118, 2121, 2124, 2127, 2130, 2133, 2136, 2139, 2142, 2145, 2148, 2151, 2154, 2157, 2160, 2163, 2166, 2169, 2172, 2175, 2178, 2181, 2184, 2187, 2190, 2193, 2196, 2199, 2202, 2205, 2208, 2211, 2214, 2217, 2220, 2223, 2226, 2229, 2232, 2235, 2238, 2241, 2244, 2247, 2250, 2253, 2256, 2259, 2262, 2265, 2268, 2271, 2274, 2277, 2280, 2283, 2286, 2289, 2292, 2295, 2298, 2301, 2304, 2307, 2310, 2313, 2316, 2319, 2322, 2325, 2328, 2331, 2334, 2337, 2340, 2343, 2346, 2349, 2352, 2355, 2358, 2361, 2364, 2367, 2370, 2373, 2376, 2379, 2382, 2385, 2388, 2391, 2394, 2397, 2400, 2403, 2406, 2409, 2412, 2415, 2418, 2421, 2424, 2427, 2430, 2433, 2436, 2439, 2442, 2445, 2448, 2451, 2454, 2457, 2460, 2463, 2466, 2469, 2472, 2475, 2478, 2481, 2484, 2487, 2490, 2493, 2496, 2499, 2502, 2505, 2508, 2511, 2514, 2517, 2520, 2523, 2526, 2529, 2532, 2535, 2538, 2541, 2544, 2547, 2550, 2553, 2556, 2559, 2562, 2565, 2568, 2571, 2574, 2577, 2580, 2583, 2586, 2589, 2592, 2595, 2598, 2601, 2604, 2607, 2610, 2613, 2616, 2619, 2622, 2625, 2628, 2631, 2634, 2637, 2640, 2643, 2646, 2649, 2652, 2655, 2658, 2661, 2664, 2667, 2670, 2673, 2676, 2679, 2682, 2685, 2688, 2691, 2694, 2697, 2700, 2703, 2706, 2709, 2712, 2715, 2718, 2721, 2724, 2727, 2730, 2733, 2736, 2739, 2742, 2745, 2748, 2751, 2754, 2757, 2760, 2763, 2766, 2769, 2772, 2775, 2778, 2781, 2784, 2787, 2790, 2793, 2796, 2799, 2802, 2805, 2808, 2811, 2814, 2817, 2820, 2823, 2826, 2829, 2832, 2835, 2838, 2841, 2844, 2847, 2850, 2853, 2856, 2859, 2862, 2865, 2868, 2871, 2874, 2877, 2880, 2883, 2886, 2889, 2892, 2895, 2898, 2901, 2904, 2907, 2910, 2913, 2916, 2919, 2922, 2925, 2928, 2931, 2934, 2937, 2940, 2943, 2946, 2949, 2952, 2955, 2958, 2961, 2964, 2967, 2970, 2973, 2976, 2979, 2982, 2985, 2988, 2991, 2994, 2997, 3000]\n"
          ]
        }
      ]
    },
    {
      "cell_type": "markdown",
      "metadata": {
        "id": "E0UIngezQbqJ"
      },
      "source": [
        "# Función range()\n",
        "Tiene los mismos componentes de slicing\n",
        "inicio, stop, incremento\n",
        "range(1:101:1) "
      ]
    },
    {
      "cell_type": "code",
      "metadata": {
        "colab": {
          "base_uri": "https://localhost:8080/"
        },
        "id": "cuAExlUCQzwF",
        "outputId": "993db8f0-86de-434c-8e00-0c445deab96e"
      },
      "source": [
        "números = [ x for x in range(50, 101, 5)]\n",
        "print(números)"
      ],
      "execution_count": null,
      "outputs": [
        {
          "output_type": "stream",
          "name": "stdout",
          "text": [
            "[50, 55, 60, 65, 70, 75, 80, 85, 90, 95, 100]\n"
          ]
        }
      ]
    },
    {
      "cell_type": "markdown",
      "metadata": {
        "id": "WuDOpQh2RL40"
      },
      "source": [
        "# Los metódos disponibles de una lista"
      ]
    },
    {
      "cell_type": "code",
      "metadata": {
        "colab": {
          "base_uri": "https://localhost:8080/"
        },
        "id": "GzFj0kwoRRXm",
        "outputId": "32e18ee8-fe8f-4c75-d743-cf412d05621d"
      },
      "source": [
        "dir(list)"
      ],
      "execution_count": null,
      "outputs": [
        {
          "output_type": "execute_result",
          "data": {
            "text/plain": [
              "['__add__',\n",
              " '__class__',\n",
              " '__contains__',\n",
              " '__delattr__',\n",
              " '__delitem__',\n",
              " '__dir__',\n",
              " '__doc__',\n",
              " '__eq__',\n",
              " '__format__',\n",
              " '__ge__',\n",
              " '__getattribute__',\n",
              " '__getitem__',\n",
              " '__gt__',\n",
              " '__hash__',\n",
              " '__iadd__',\n",
              " '__imul__',\n",
              " '__init__',\n",
              " '__init_subclass__',\n",
              " '__iter__',\n",
              " '__le__',\n",
              " '__len__',\n",
              " '__lt__',\n",
              " '__mul__',\n",
              " '__ne__',\n",
              " '__new__',\n",
              " '__reduce__',\n",
              " '__reduce_ex__',\n",
              " '__repr__',\n",
              " '__reversed__',\n",
              " '__rmul__',\n",
              " '__setattr__',\n",
              " '__setitem__',\n",
              " '__sizeof__',\n",
              " '__str__',\n",
              " '__subclasshook__',\n",
              " 'append',\n",
              " 'clear',\n",
              " 'copy',\n",
              " 'count',\n",
              " 'extend',\n",
              " 'index',\n",
              " 'insert',\n",
              " 'pop',\n",
              " 'remove',\n",
              " 'reverse',\n",
              " 'sort']"
            ]
          },
          "metadata": {},
          "execution_count": 27
        }
      ]
    },
    {
      "cell_type": "code",
      "metadata": {
        "colab": {
          "base_uri": "https://localhost:8080/"
        },
        "id": "4Gc4BtpzSd3T",
        "outputId": "991ee02a-f02d-4f7e-fd43-d7730a8932f8"
      },
      "source": [
        "números = [ 4, 1, 15, 8, 22, 34, 50, 15]\n",
        "print(números)\n",
        "números.append(99)\n",
        "print(números)\n",
        "#números.clear()\n",
        "\n",
        "print(números)\n",
        "\n",
        "frutas = [\"uvas\", \" kiwi\", \" manzana\"]\n",
        "copia = frutas\n",
        "print(frutas)\n",
        "print(copia)\n",
        "frutas.append(\"Naranja\")\n",
        "print(frutas)\n",
        "print(copia)\n",
        "\n",
        "colores = [\"rojo\", \"azul\", \"blanco\"]\n",
        "copia2 = colores.copy() \n",
        "\n",
        "colores.append(\"verde\")\n",
        "print(colores)\n",
        "print(copia2)\n",
        "\n",
        "print(\"Número de veces que aparece 15 =\", números.count(15))\n",
        "\n",
        "#extend\n",
        "nombres = [\"jose\", \"pedro\", \"karina\"]\n",
        "otrosnombres  = [\"josue\", \"diana\", \"dalia\"]\n",
        "print(nombres)\n",
        "print(otrosnombres)\n",
        "nombres = nombres + otrosnombres\n",
        "print(nombres)\n",
        "print(otrosnombres)\n",
        "#Lo mismo pero con el metódo extend\n",
        "otrosnombres.append(\"jesus\")\n",
        "print(otrosnombres)\n",
        "print(\"jesus esta en la posicion\" , \n",
        "    otrosnombres.index(\"jesus\"))\n",
        "otrosnombres.insert(4, \"espiritu santo\")\n",
        "print(otrosnombres)\n",
        "#pop\n",
        "resultado = otrosnombres.pop()\n",
        "print(otrosnombres)"
      ],
      "execution_count": null,
      "outputs": [
        {
          "output_type": "stream",
          "name": "stdout",
          "text": [
            "[4, 1, 15, 8, 22, 34, 50, 15]\n",
            "[4, 1, 15, 8, 22, 34, 50, 15, 99]\n",
            "[4, 1, 15, 8, 22, 34, 50, 15, 99]\n",
            "['uvas', ' kiwi', ' manzana']\n",
            "['uvas', ' kiwi', ' manzana']\n",
            "['uvas', ' kiwi', ' manzana', 'Naranja']\n",
            "['uvas', ' kiwi', ' manzana', 'Naranja']\n",
            "['rojo', 'azul', 'blanco', 'verde']\n",
            "['rojo', 'azul', 'blanco']\n",
            "Número de veces que aparece 15 = 2\n",
            "['jose', 'pedro', 'karina']\n",
            "['josue', 'diana', 'dalia']\n",
            "['jose', 'pedro', 'karina', 'josue', 'diana', 'dalia']\n",
            "['josue', 'diana', 'dalia']\n",
            "['josue', 'diana', 'dalia', 'jesus']\n",
            "jesus esta en la posicion 3\n",
            "['josue', 'diana', 'dalia', 'jesus', 'espiritu santo']\n",
            "['josue', 'diana', 'dalia', 'jesus']\n"
          ]
        }
      ]
    },
    {
      "cell_type": "markdown",
      "metadata": {
        "id": "1CJvEQHIv84r"
      },
      "source": [
        "#Tuplas\n",
        "###Características de las tuplas\n",
        "\n",
        "- Datos agrupados.\n",
        "- Se declara usando #\n",
        "     - Usando[]\n",
        "     - ()\n",
        "     - turpe()\n",
        "- Estructura secuencial, indexada a partir de 0.\n",
        "- Puede tener de 0 a n elementos.\n",
        "- NO SON MUTABLES(No se puede eliminar y/o cambiar).\n",
        "- Son buenas para almacenar información de consulta.\n",
        "- Pueden almacenar info. de diferentes tipos de dato.\n",
        "- Puedeb estar anidadas.\n",
        "- Tiene metódos útiles.\n",
        "\n"
      ]
    },
    {
      "cell_type": "code",
      "metadata": {
        "colab": {
          "base_uri": "https://localhost:8080/"
        },
        "id": "F-nGVtSjw7SD",
        "outputId": "ee25ef19-244b-4b79-a13a-99230f53d139"
      },
      "source": [
        "info = (\"juan23\",\"dios1234\", \"123.232.1.12\")\n",
        "print(info)\n",
        "print(info[1])\n",
        " \n",
        "\n",
        "numeros = (0, 1, 2, 3, 4, 5, 6, 7, 8, 9, 10, 11, 12, 13, 14, 15)\n",
        "print(numeros)\n",
        "print(numeros[5:11])\n",
        "\n",
        "\n",
        "cosas = (info , numeros)\n",
        "print(cosas[1][5:11:1])\n",
        "print(cosas[0][2][4:7])\n",
        "print(cosas[0][2][-8:-5])\n"
      ],
      "execution_count": null,
      "outputs": [
        {
          "output_type": "stream",
          "name": "stdout",
          "text": [
            "('juan23', 'dios1234', '123.232.1.12')\n",
            "dios1234\n",
            "(0, 1, 2, 3, 4, 5, 6, 7, 8, 9, 10, 11, 12, 13, 14, 15)\n",
            "(5, 6, 7, 8, 9, 10)\n",
            "(5, 6, 7, 8, 9, 10)\n",
            "232\n",
            "232\n"
          ]
        }
      ]
    },
    {
      "cell_type": "markdown",
      "metadata": {
        "id": "uZQzRu4j0lgM"
      },
      "source": [
        "# Metódos de las tuplas\n",
        "Son los mismos de las listas pero los que no involucren mutabilidad \n"
      ]
    },
    {
      "cell_type": "markdown",
      "metadata": {
        "id": "KOaO07422wCo"
      },
      "source": [
        "#Diccionario\n",
        "### Características de lso diccionarios\n",
        "\n",
        "- Agrupan datos, pero de forma no lineal.\n",
        "- Se declaran con:\n",
        "    - {}\n",
        "    - dict()\n",
        "- Formado por pares de tipo llave: valor, donde:\n",
        "    - Llave de tipo string(Siempre)\n",
        "    - Valor puede ser de cualquier tipo de dato, incluyendo los diccionarios.\n",
        "- Se seleccionan con las llaves de la forma:{\"id_llave\"}\n",
        "- SON MUTABLES\n",
        "- Son equivalentes al tipo de dato JSON del lenguaje java(JS)    \n"
      ]
    },
    {
      "cell_type": "code",
      "metadata": {
        "colab": {
          "base_uri": "https://localhost:8080/"
        },
        "id": "ATJTIoqj02He",
        "outputId": "44857183-323e-4ec9-be46-69bdad7c644b"
      },
      "source": [
        "alumno = { \"nombre\" : \"Jose\" }\n",
        "print(alumno)\n",
        "print(alumno[\"nombre\"])\n",
        "alumno = {\"nombre\" : \"Jose\" , \"nc\":\"453435443\", \"edad\":18}\n",
        "print(alumno[ \"edad\"])\n",
        "print(\"Edad del alumno: \", alumno[\"nombre\"].upper())\n",
        "\n",
        "alumno2 = dict() #{}\n",
        "alumno2[\"nombre\"] = \"Jose\"\n",
        "print(alumno2)\n",
        "alumno2[\"nc\"] = \"453435443\"\n",
        "\n",
        "alumno2[\"edad\"] = 18\n",
        "print(alumno2)\n",
        "\n",
        "alumno2[\"edad\"] = alumno2[\"edad\"] + 1\n",
        "print(alumno2)"
      ],
      "execution_count": null,
      "outputs": [
        {
          "output_type": "stream",
          "name": "stdout",
          "text": [
            "{'nombre': 'Jose'}\n",
            "Jose\n",
            "18\n",
            "Edad del alumno:  JOSE\n",
            "{'nombre': 'Jose'}\n",
            "{'nombre': 'Jose', 'nc': '453435443', 'edad': 18}\n",
            "{'nombre': 'Jose', 'nc': '453435443', 'edad': 19}\n"
          ]
        }
      ]
    },
    {
      "cell_type": "code",
      "metadata": {
        "colab": {
          "base_uri": "https://localhost:8080/"
        },
        "id": "vnHPtAu08RhV",
        "outputId": "46c54acf-8e9c-4ca8-c30d-6af74d85ccec"
      },
      "source": [
        "cliente = { \"id-cuenta\":\"CT2121\" , \"nombre\":\"Jose Pedroza Rosales\" , \"telefonos\": \"casa = 5555556565 cel = 5452547377\" }\n",
        "\n",
        "print(cliente)\n",
        "\n",
        "cliente = { \"id-cuenta\":\"CT2121\",\n",
        "            \"nombre\" : {\n",
        "               \"nombres\" : [\"Jose\"] ,\n",
        "               \"paterno\" : \"Pedroza\",\n",
        "               \"materno\" : \"Rosales\"\n",
        "            \n",
        "\n",
        "           }, \n",
        "           \"telefonos\" : {\n",
        "               \"casa\" : \"5555556565\" ,\n",
        "               \"trabajo\": \"6453434534\",\n",
        "               \"cel\" : \"5452547377\" \n",
        "           },\n",
        "               \"productos\" :{\n",
        "                   \n",
        "                    \"ahorro\":{\"numero de cuenta\":\"7788\", \"ahorro\":21235.02},\n",
        "                    \"targetas\" : [\n",
        "                        {\"tipo\" : \"debito\", \"saldo\": 100000.50},\n",
        "                        {\"tipo\" : \"credito preferente\",  \"limite\": 2500000.5},\n",
        "                        {\"tipo\" : \"life\", \"limite\":150000.5}\n",
        "                    ]    \n",
        "                            }, \n",
        "           \"Direccion\": {\n",
        "               \"calle\":\"avenida central\",\n",
        "               \"numero\":\"1245\",\n",
        "               \"colonia\":\"Impulsora\",\n",
        "               \"delegacion\":\"neza\",\n",
        "               \"estado\":{\n",
        "                   \"clave\":15,\n",
        "                   \"nombre_corto\":\"EdoMex\",\n",
        "                   \"nombre\":\"Estado de México\"\n",
        "               }\n",
        "           }\n",
        "                            \n",
        "               \n",
        "}\n",
        "\n",
        "print( cliente[\"telefonos\"][\"casa\"])\n",
        "print(cliente)\n",
        "print(cliente[\"productos\"][\"targetas\"][2][\"limite\"])\n",
        "print(cliente[\"Direccion\"][\"estado\"][\"nombre\"].upper())\n",
        "cliente[\"productos\"][\"ahorro\"][\"ahorro\"] -=1500.0\n",
        "print(cliente[\"productos\"])"
      ],
      "execution_count": null,
      "outputs": [
        {
          "output_type": "stream",
          "name": "stdout",
          "text": [
            "{'id-cuenta': 'CT2121', 'nombre': 'Jose Pedroza Rosales', 'telefonos': 'casa = 5555556565 cel = 5452547377'}\n",
            "5555556565\n",
            "{'id-cuenta': 'CT2121', 'nombre': {'nombres': ['Jose'], 'paterno': 'Pedroza', 'materno': 'Rosales'}, 'telefonos': {'casa': '5555556565', 'trabajo': '6453434534', 'cel': '5452547377'}, 'productos': {'ahorro': {'numero de cuenta': '7788', 'ahorro': 21235.02}, 'targetas': [{'tipo': 'debito', 'saldo': 100000.5}, {'tipo': 'credito preferente', 'limite': 2500000.5}, {'tipo': 'life', 'limite': 150000.5}]}, 'Direccion': {'calle': 'avenida central', 'numero': '1245', 'colonia': 'Impulsora', 'delegacion': 'neza', 'estado': {'clave': 15, 'nombre_corto': 'EdoMex', 'nombre': 'Estado de México'}}}\n",
            "150000.5\n",
            "ESTADO DE MÉXICO\n",
            "{'ahorro': {'numero de cuenta': '7788', 'ahorro': 22735.02}, 'targetas': [{'tipo': 'debito', 'saldo': 100000.5}, {'tipo': 'credito preferente', 'limite': 2500000.5}, {'tipo': 'life', 'limite': 150000.5}]}\n"
          ]
        }
      ]
    },
    {
      "cell_type": "markdown",
      "metadata": {
        "id": "-_0RPO0LMkYs"
      },
      "source": [
        "#Estructuras de control de programación\n",
        "Se puede crear cualquier tipo de algorítmo empleando solamente tres estructuras de control:\n",
        "1. Secuencia:\n",
        "         - Representación de la memoria de programas (Arquitectura de John Vonn Newman)\n",
        "2. Selección:\n",
        "         - Es la estructura de control que decide si un bloque de programa se ejecuta o no se ejecula. Tambien permite seleccionar ejecutar un bloque entre un conjunto de opciones.\n",
        "         En resumen tenemos selección simple, selección con bifurcación y la selleción múltiple.\n",
        "3. Repetición:\n",
        "         - Este tipo de estructura nos permite automatiza la ejecución repetitiva de código mientras ciertas condiciones se cumplan, tenemos 3 variantes de estra estructura en todos los lenguajes de progarmación:\n",
        "              - Desde.....hasta (estructura for)\n",
        "              - haz mientras (estructura while)\n",
        "              - haz y luego validaz (estructura do-while)\n",
        "        "
      ]
    },
    {
      "cell_type": "markdown",
      "metadata": {
        "id": "earZWpDrSCeN"
      },
      "source": [
        "# Selección simple\n",
        "- Documentar o poner notas\n",
        "la estructura if\n",
        "\"\"\"\n",
        "if <Condición>\n",
        "<Cuerpo del if>\n",
        "'''\n",
        "**Nota** Para estavlecer el cuerpo de una esructura de control epython se usan los tabuladores a la izq.\n",
        "En otros lenguajes de programación como java, c y c++.... se usan las llaves { }\n",
        "'''\n",
        "int edad = 0;\n",
        "printf(\"Dame tu edad\");\n",
        "scanf(\"%i\", &edad);\n",
        "if(edad >= 18){\n",
        "      printf(\"Eres mayor de edad\")}\n",
        "printf(\"Fin del programa\")"
      ]
    },
    {
      "cell_type": "code",
      "metadata": {
        "colab": {
          "base_uri": "https://localhost:8080/"
        },
        "id": "han6Z8-gMjTv",
        "outputId": "b5044e4d-5025-4aec-e12d-1d3d298fb628"
      },
      "source": [
        "edad = int(input(\"Dame tu edad:\"))\n",
        "print(f\"Tecleaste {edad} años\" )\n",
        "if edad>=18: \n",
        "     print(\"Eres mayor de edad\") #Los tabuladores sirven para determinar el cuerpo de la función\n",
        "     print(\"Algo\")\n",
        "print(\"Otra cosa\")\n",
        "print(\"Fin del programa\")"
      ],
      "execution_count": null,
      "outputs": [
        {
          "output_type": "stream",
          "name": "stdout",
          "text": [
            "Dame tu edad:15\n",
            "Tecleaste 15 años\n",
            "Otra cosa\n",
            "Fin del programa\n"
          ]
        }
      ]
    },
    {
      "cell_type": "code",
      "metadata": {
        "colab": {
          "base_uri": "https://localhost:8080/"
        },
        "id": "GtklQPKzWdcT",
        "outputId": "347e7894-10e4-4699-e530-899ee756fcd8"
      },
      "source": [
        "calificación = float(input(\"Dame tu calificación \"))\n",
        "print(f\"Tecleaste que tu calificación fue de {calificación} \")\n",
        "if calificación >= 8:\n",
        "      print(\"Aprobado\")\n",
        "if calificación < 8:\n",
        "      print(\"No aprobado\")\n",
        "print(\"Fin del programa\")"
      ],
      "execution_count": null,
      "outputs": [
        {
          "output_type": "stream",
          "name": "stdout",
          "text": [
            "Dame tu calificación 8.2\n",
            "Tecleaste que tu calificación fue de 8.2 \n",
            "Aprobado\n",
            "Fin del programa\n"
          ]
        }
      ]
    },
    {
      "cell_type": "code",
      "metadata": {
        "id": "ArATpdBeXkYL"
      },
      "source": [
        "SUE = float(input(\"Dime tu sueldo: \"))\n",
        "AUM = 0\n",
        "MSUE = 0\n",
        "\n",
        "if SUE < 1000:\n",
        "  AUM = SUE* 0.15\n",
        "  MSUE = SUE + AUM\n",
        "  print(MSUE)"
      ],
      "execution_count": null,
      "outputs": []
    },
    {
      "cell_type": "markdown",
      "metadata": {
        "id": "5qVRfGikGsvM"
      },
      "source": [
        "#Estructuras de selección con bifurcación(if-else)\n",
        "Esta estructura , selecciona una de las dos opciones de ejecución, se ejecuta un bloque si la condición se cumple, o se ejecuta otro bloque si la condicion no se cumpel(else)\n",
        "\n",
        "'''''''\n",
        "if <condicion>:\n",
        "     <bloque de ejecución>\n",
        "else:\n",
        "    <bloque de ejecución alterno>     \n",
        "    '''''\n",
        "\n"
      ]
    },
    {
      "cell_type": "code",
      "metadata": {
        "colab": {
          "base_uri": "https://localhost:8080/"
        },
        "id": "ogCsu-yjH4Uu",
        "outputId": "d56f56ac-9c36-486f-ebb3-0e15a6d8c242"
      },
      "source": [
        "edad = int(input(\"Dame tu edad: \" ))\n",
        "print(f\"Teclesate {edad} años\")\n",
        "if edad >= 18:\n",
        "    print(\"Eres mayor de edad, ten tú cheve\")\n",
        "else:\n",
        "    print(\"Eres menor de edad, ten tu boing\")\n",
        "print(\"Fin del programa\")"
      ],
      "execution_count": null,
      "outputs": [
        {
          "output_type": "stream",
          "name": "stdout",
          "text": [
            "Dame tu edad: 15\n",
            "Teclesate 15 años\n",
            "Eres menor de edad, ten tu boing\n",
            "Fin del programa\n"
          ]
        }
      ]
    },
    {
      "cell_type": "code",
      "metadata": {
        "id": "K3UzAmhnJXD_"
      },
      "source": [
        "#Cheve = 36\n",
        "edad = int(input(\"Dame tu edad: \" ))\n",
        "dinero = int(input(\"¿Cuanto dinero tienes?: \"))\n",
        "print(f\"Tecleaste {edad} años\")\n",
        "print(f\"Tecleaste {dinero} pesos\")\n",
        "\n",
        "if edad >= 18: \n",
        "    if dinero >= 36:\n",
        "\n",
        "        print(\"Eres mayor de edad y tienes dinero suficiente, ten tú cheve\")\n",
        "    else:\n",
        "        print(\"No tienes dinero suficiente\")\n",
        "else:\n",
        "    print(\"Eres menor de edad, ten tu boing\")\n",
        "print(\"Fin del programa\")"
      ],
      "execution_count": null,
      "outputs": []
    },
    {
      "cell_type": "code",
      "metadata": {
        "colab": {
          "base_uri": "https://localhost:8080/"
        },
        "id": "4LcgQXouL2TU",
        "outputId": "ee3af952-136a-4c81-db8f-005e33ce30b8"
      },
      "source": [
        "edad = int(input(\"Dame tu edad: \" ))\n",
        "dinero = float(input(\"¿Cuanto dinero tienes?: \"))\n",
        "print(f\"Tecleaste {edad} años\")\n",
        "print(f\"Tecleaste {dinero} pesos\")\n",
        "\n",
        "if edad >= 18: \n",
        "    if dinero >= 36:\n",
        "\n",
        "        print(\"Eres mayor de edad y tienes dinero suficiente, ten tú cheve\")\n",
        "    else:\n",
        "        print(\"No tienes dinero suficiente\")\n",
        "else:\n",
        "    if dinero >= 36:\n",
        "        print(\"Tienes dinero suficiente pero eres menor de edad\")\n",
        "    else:\n",
        "        print(\" No tienes dinero suficiente y eres menor de edad\")\n",
        "\n",
        "print(\"Fin del programa\")"
      ],
      "execution_count": null,
      "outputs": [
        {
          "output_type": "stream",
          "name": "stdout",
          "text": [
            "Dame tu edad: 15\n",
            "¿Cuanto dinero tienes?: 40\n",
            "Tecleaste 15 años\n",
            "Tecleaste 40.0 pesos\n",
            "Tienes dinero suficiente pero eres menor de edad\n",
            "Fin del programa\n"
          ]
        }
      ]
    },
    {
      "cell_type": "markdown",
      "metadata": {
        "id": "TBdk1daaM4Jm"
      },
      "source": [
        "##El código anterior se puede simplificar usando:\n",
        "elif\n"
      ]
    },
    {
      "cell_type": "code",
      "metadata": {
        "colab": {
          "base_uri": "https://localhost:8080/"
        },
        "id": "BAlE2vfcNKGQ",
        "outputId": "71559d3e-04b0-4e73-aa78-3638d8708333"
      },
      "source": [
        "#Cheve = 36\n",
        "edad = int(input(\"Dame tu edad: \" ))\n",
        "dinero = int(input(\"¿Cuanto dinero tienes?: \"))\n",
        "print(f\"Tecleaste {edad} años\")\n",
        "print(f\"Tecleaste {dinero} pesos\")\n",
        "\n",
        "if edad >= 18: \n",
        "    if dinero >= 36:\n",
        "\n",
        "        print(\"Ten tú cheve\")\n",
        "\n",
        "    else:\n",
        "        print(\"Tienes la edad pero no tienes dinero suficiente\")\n",
        "elif dinero >= 36:\n",
        "    print(\"Tienes dinero suficiente, pero eres menor de edad\")\n",
        "else:\n",
        "    print(\"No tienes dinero suficiente y eres menor de edad\")\n",
        "print(\"Fin del programa\")"
      ],
      "execution_count": null,
      "outputs": [
        {
          "output_type": "stream",
          "name": "stdout",
          "text": [
            "Dame tu edad: 40\n",
            "¿Cuanto dinero tienes?: 450\n",
            "Tecleaste 40 años\n",
            "Tecleaste 450 pesos\n",
            "Ten tú cheve\n",
            "Fin del programa\n"
          ]
        }
      ]
    },
    {
      "cell_type": "code",
      "metadata": {
        "colab": {
          "base_uri": "https://localhost:8080/"
        },
        "id": "WJIAWSM2OowK",
        "outputId": "e817ae1c-5549-4320-d834-4734a2f11cd1"
      },
      "source": [
        "CAL = float(input(\"Calificación que sacaste: \"))\n",
        "\n",
        "if CAL >= 8 :\n",
        "    \n",
        "    print(\"Aprobado\")\n",
        "\n",
        "else:\n",
        "    \n",
        "    print(\"Reprobado\")\n",
        "print(\"Fin del programa\")"
      ],
      "execution_count": 52,
      "outputs": [
        {
          "output_type": "stream",
          "name": "stdout",
          "text": [
            "Calificación que sacaste: 9.11111 \n",
            "Aprobado\n",
            "Fin del programa\n"
          ]
        }
      ]
    },
    {
      "cell_type": "code",
      "metadata": {
        "colab": {
          "base_uri": "https://localhost:8080/"
        },
        "id": "XpIm5EOhQlDX",
        "outputId": "569aa880-c5c4-4164-9bdc-298344d9a198"
      },
      "source": [
        "SUE = float(input(\"Tu sueldo es de: \"))\n",
        "AUM = 0\n",
        "NSUE = 0\n",
        "\n",
        "if SUE < 1000:\n",
        "     AUM = SUE * 0.15\n",
        "     NSUE = SUE + AUM\n",
        "     print(\"Tu sueldo es de: \", SUE)\n",
        "     print(\"Tu Nuevo sueldo es de:\",NSUE)\n",
        "else:\n",
        "    AUM = SUE * 0.12\n",
        "    NSUE = SUE + AUM\n",
        "    print(\"Tu sueldo es de: \", SUE)    \n",
        "    print(\"Tu Nuevo sueldo es de:\",NSUE)\n",
        "print(\"Finalizar ejecución\")"
      ],
      "execution_count": 54,
      "outputs": [
        {
          "output_type": "stream",
          "name": "stdout",
          "text": [
            "Tu sueldo es de: 7425\n",
            "Tu sueldo es de:  7425.0\n",
            "Tu Nuevo sueldo es de: 8316.0\n",
            "Finalizar ejecución\n"
          ]
        }
      ]
    },
    {
      "cell_type": "markdown",
      "metadata": {
        "id": "5bhOmtXuSFhi"
      },
      "source": [
        "#Ejercicio\n",
        "Hacer un programa que solicite el dia de la semana en un valor númerico entero del 1 - 7 (Avisarle al usuario si proporciono un valor fuera de este)\n",
        "###Imprimir el dia de la semana correspondiente al mumero capturado"
      ]
    },
    {
      "cell_type": "code",
      "metadata": {
        "colab": {
          "base_uri": "https://localhost:8080/"
        },
        "id": "k7LS8ZR9SC_k",
        "outputId": "ee93708c-7795-4f0b-dce1-852c42b7eb43"
      },
      "source": [
        "dia = int(input(\"Di un dia de la semana: \"))\n",
        "if dia == 1: \n",
        "       dia = 1\n",
        "       print(\"Lunes\"),\n",
        "elif   dia ==   2:\n",
        "       print(\"Martes\"),\n",
        "elif   dia ==  3:\n",
        "       print(\"Miercoles\"),\n",
        "elif   dia ==  4:\n",
        "       print(\"Jueves\"),\n",
        "elif   dia ==  5:\n",
        "       print(\"Viernes\"),\n",
        "elif   dia ==  6:\n",
        "       print(\"Sabado\"),\n",
        "elif   dia == 7:\n",
        "       print(\"Domingo\")    \n",
        "else:\n",
        "       print(\"No existe ese día\")           \n",
        "print(\"Fin del prograam\")      "
      ],
      "execution_count": 83,
      "outputs": [
        {
          "output_type": "stream",
          "name": "stdout",
          "text": [
            "Di un dia de la semana: 45\n",
            "No existe ese día\n",
            "Fin del prograam\n"
          ]
        }
      ]
    },
    {
      "cell_type": "code",
      "metadata": {
        "colab": {
          "base_uri": "https://localhost:8080/"
        },
        "id": "40uZH_G5Vc27",
        "outputId": "943e8a89-fa13-45c0-97ee-fbfa1697d17d"
      },
      "source": [
        "dia = int(input(\"Ingresa un número entre 1 y 7: \"))\n",
        "print(f\"Capturaste el número {dia}\")\n",
        "\n",
        "if dia >= 1 and dia <= 7:\n",
        "     if dia == 1:\n",
        "         print(\"Lunes\")\n",
        "     else:\n",
        "         if dia == 2:\n",
        "             print(\"Martes\")\n",
        "         else:\n",
        "             if dia == 3:\n",
        "                 print(\"Miercoles\")\n",
        "             else:\n",
        "                 if dia == 4:\n",
        "                     print(\"Jueves\")\n",
        "                 else:\n",
        "                     if dia == 5:\n",
        "                         print(\"Viernes\")\n",
        "                     else:\n",
        "                         if dia == 6:\n",
        "                             print(\"Sabado\")\n",
        "                         else:\n",
        "                             if dia == 7:\n",
        "                                 print(\"Domingo\")                \n",
        "else:\n",
        "    print(\"Ese número no esta dentro del rango solicitado\")\n",
        "print(\"Fin de la ejecución\")\n"
      ],
      "execution_count": 89,
      "outputs": [
        {
          "output_type": "stream",
          "name": "stdout",
          "text": [
            "Ingresa un número entre 1 y 7: 5\n",
            "Capturaste el número 5\n",
            "Viernes\n",
            "Fin de la ejecución\n"
          ]
        }
      ]
    },
    {
      "cell_type": "code",
      "metadata": {
        "id": "ceq6JzfEX0Uh"
      },
      "source": [
        "#Haceu un programa que pida dos numeros enteros\n",
        "1. Cual es el mayor\n",
        "2. Cual es el menor\n",
        "   o en su defecto\n",
        " Imprimir si los valores son iguales\n",
        "# Hacer un rpograma que pida 3 numeros enteros diferentes entre si y que imprima cual de los 3 es el mayor.\n",
        "#Lo mismo pero cual es el menor\n",
        "\n",
        "#Hacer un programa que solicite 4 números enteros diferentes entre si e imprima a la salida cual de ello es el menor y cual de ellos es el mayor\n"
      ],
      "execution_count": null,
      "outputs": []
    },
    {
      "cell_type": "markdown",
      "metadata": {
        "id": "JFs7rsfYa-QH"
      },
      "source": [
        "#Selección multiple (swich)\n",
        "En python no existe la estructura de selección swich, en cambio se usa la palabra reservada:\n",
        "###elif <condición>:\n",
        "\n"
      ]
    },
    {
      "cell_type": "code",
      "metadata": {
        "colab": {
          "base_uri": "https://localhost:8080/"
        },
        "id": "R3e0Wn7-cwi6",
        "outputId": "cc353bba-5eb7-45ab-c324-14bdf5841766"
      },
      "source": [
        "#ejemplo 2.7\n",
        "NUM = int(input(\"Dame un numero entre 1 y 3: \"))\n",
        "V = float(input(\"Dame un valor float: \"))\n",
        "VAL = 0\n",
        "if NUM == 1:\n",
        "    VAL = 100 * V\n",
        "elif NUM == 2:\n",
        "    VAL = 100 ** V\n",
        "elif NUM == 3:\n",
        "    VAL = 100/V\n",
        "else :\n",
        "    VAL = 0 \n",
        "print(VAL)           "
      ],
      "execution_count": 92,
      "outputs": [
        {
          "output_type": "stream",
          "name": "stdout",
          "text": [
            "Dame un numero entre 1 y 3: 3\n",
            "Dame un valor float: 2.21455\n",
            "45.15590074733016\n"
          ]
        }
      ]
    }
  ]
}