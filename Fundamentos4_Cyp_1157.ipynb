{
  "nbformat": 4,
  "nbformat_minor": 0,
  "metadata": {
    "colab": {
      "name": "Fundamentos4_Cyp_1157.ipynb",
      "provenance": [],
      "collapsed_sections": [],
      "authorship_tag": "ABX9TyP/RlWOhDIsygx2TstLXPMS",
      "include_colab_link": true
    },
    "kernelspec": {
      "name": "python3",
      "display_name": "Python 3"
    },
    "language_info": {
      "name": "python"
    }
  },
  "cells": [
    {
      "cell_type": "markdown",
      "metadata": {
        "id": "view-in-github",
        "colab_type": "text"
      },
      "source": [
        "<a href=\"https://colab.research.google.com/github/DiegoArreola23/CyP-1157/blob/main/Fundamentos4_Cyp_1157.ipynb\" target=\"_parent\"><img src=\"https://colab.research.google.com/assets/colab-badge.svg\" alt=\"Open In Colab\"/></a>"
      ]
    },
    {
      "cell_type": "markdown",
      "metadata": {
        "id": "YOjgfCizjoBc"
      },
      "source": [
        "#Fecha: 07/12/2021"
      ]
    },
    {
      "cell_type": "markdown",
      "metadata": {
        "id": "BuXiFTrfVLr_"
      },
      "source": [
        "Una función es una unidad de código reutilizable, además de ser un mecánismo para organizar código.\n",
        "La gran ventaja de emplear funciones es simplificar la programación.\n",
        "\n",
        "### Estructura\n",
        "Una función puede tomar cualquier cantidad de parametros de entrada(de cualquier tipo) y retornar unicamente un sólo valor.\n",
        "Un parámetro de entrada es un valor que recibre la función para realizar sus operaciones.\n",
        "Con una función se pueden hacer dos cosas:\n",
        "1. Definirla\n",
        "2. Invocarla (ejecutarla)\n",
        "\n",
        "La gran ventaja de tener una función declarada es que la podemos utilizar cuando se desee"
      ]
    },
    {
      "cell_type": "markdown",
      "metadata": {
        "id": "GiijmFCgUGmj"
      },
      "source": [
        "#Modularidad(Funciones)\n"
      ]
    },
    {
      "cell_type": "code",
      "metadata": {
        "id": "_qWelv42UEGk"
      },
      "source": [
        "def sumar( op1 , op2 ):\n",
        "    res = op1 + op2\n",
        "    return res"
      ],
      "execution_count": null,
      "outputs": []
    },
    {
      "cell_type": "code",
      "metadata": {
        "colab": {
          "base_uri": "https://localhost:8080/"
        },
        "id": "i4myNWwbYDGE",
        "outputId": "b9b3df37-2531-441d-e8fd-af70772f63e4"
      },
      "source": [
        "res = sumar( 2 , 5 )\n",
        "print(res)"
      ],
      "execution_count": null,
      "outputs": [
        {
          "output_type": "stream",
          "name": "stdout",
          "text": [
            "7\n"
          ]
        }
      ]
    },
    {
      "cell_type": "code",
      "metadata": {
        "colab": {
          "base_uri": "https://localhost:8080/"
        },
        "id": "qbKn4wuWZt8u",
        "outputId": "2a9f3feb-4113-4370-c71e-2569bb6ac8de"
      },
      "source": [
        "print(\"Hola\",\"Diego\",sep=\"_\")"
      ],
      "execution_count": null,
      "outputs": [
        {
          "output_type": "stream",
          "name": "stdout",
          "text": [
            "Hola_Diego\n"
          ]
        }
      ]
    },
    {
      "cell_type": "code",
      "metadata": {
        "colab": {
          "base_uri": "https://localhost:8080/"
        },
        "id": "YU40LVGoaRNr",
        "outputId": "8a3d6b94-bedc-4944-a7e6-e044564e2314"
      },
      "source": [
        "def imprime_cuadro():\n",
        "    print(\"****\")\n",
        "    print(\"****\")\n",
        "    print(\"****\")\n",
        "    print(\"****\")\n",
        "imprime_cuadro()"
      ],
      "execution_count": null,
      "outputs": [
        {
          "output_type": "stream",
          "name": "stdout",
          "text": [
            "****\n",
            "****\n",
            "****\n",
            "****\n"
          ]
        }
      ]
    },
    {
      "cell_type": "markdown",
      "metadata": {
        "id": "9a5bZ_wPa8Zf"
      },
      "source": [
        "#Valor de retorno de una función\n",
        "regla de oro.- Una función siempre retorna un solo valor, inclusive si ese valor es el vacio."
      ]
    },
    {
      "cell_type": "code",
      "metadata": {
        "colab": {
          "base_uri": "https://localhost:8080/"
        },
        "id": "xsFy0R-TbQU0",
        "outputId": "4fd239e7-1fea-4551-9f6e-924d2955d57e"
      },
      "source": [
        "# invocar sumar\n",
        "res = sumar(7 , 8)\n",
        "print(res)\n",
        "#invocar la función pintar cuadro\n",
        "res = imprime_cuadro()\n",
        "print(res)"
      ],
      "execution_count": null,
      "outputs": [
        {
          "output_type": "stream",
          "name": "stdout",
          "text": [
            "15\n",
            "****\n",
            "****\n",
            "****\n",
            "****\n",
            "None\n"
          ]
        }
      ]
    },
    {
      "cell_type": "markdown",
      "metadata": {
        "id": "shhaqHLOdKYi"
      },
      "source": [
        "# La palabra reservada NONE de python.\n",
        "Esta palabra reservada significa vacío, equivalente a la palabra void del lenguaje C, C++, Y Java.\n",
        "Se usa para indicar un return vacío o que recibre un parámetro vacío."
      ]
    },
    {
      "cell_type": "code",
      "metadata": {
        "id": "W6WmmemFd7rU"
      },
      "source": [
        "def multiplicar( valor , veces ):\n",
        "    c = valor * veces\n",
        "    return c"
      ],
      "execution_count": null,
      "outputs": []
    },
    {
      "cell_type": "code",
      "metadata": {
        "colab": {
          "base_uri": "https://localhost:8080/",
          "height": 269
        },
        "id": "LR0zGcQIeIQ7",
        "outputId": "2f615d97-ae2c-4273-807b-24976f11c895"
      },
      "source": [
        "res = multiplicar( None , 5 )\n",
        "print(res)"
      ],
      "execution_count": null,
      "outputs": [
        {
          "output_type": "error",
          "ename": "TypeError",
          "evalue": "ignored",
          "traceback": [
            "\u001b[0;31m---------------------------------------------------------------------------\u001b[0m",
            "\u001b[0;31mTypeError\u001b[0m                                 Traceback (most recent call last)",
            "\u001b[0;32m<ipython-input-14-1ab17e87768e>\u001b[0m in \u001b[0;36m<module>\u001b[0;34m()\u001b[0m\n\u001b[0;32m----> 1\u001b[0;31m \u001b[0mres\u001b[0m \u001b[0;34m=\u001b[0m \u001b[0mmultiplicar\u001b[0m\u001b[0;34m(\u001b[0m \u001b[0;32mNone\u001b[0m \u001b[0;34m,\u001b[0m \u001b[0;36m5\u001b[0m \u001b[0;34m)\u001b[0m\u001b[0;34m\u001b[0m\u001b[0;34m\u001b[0m\u001b[0m\n\u001b[0m\u001b[1;32m      2\u001b[0m \u001b[0mprint\u001b[0m\u001b[0;34m(\u001b[0m\u001b[0mres\u001b[0m\u001b[0;34m)\u001b[0m\u001b[0;34m\u001b[0m\u001b[0;34m\u001b[0m\u001b[0m\n",
            "\u001b[0;32m<ipython-input-12-bbcffe311048>\u001b[0m in \u001b[0;36mmultiplicar\u001b[0;34m(valor, veces)\u001b[0m\n\u001b[1;32m      1\u001b[0m \u001b[0;32mdef\u001b[0m \u001b[0mmultiplicar\u001b[0m\u001b[0;34m(\u001b[0m \u001b[0mvalor\u001b[0m \u001b[0;34m,\u001b[0m \u001b[0mveces\u001b[0m \u001b[0;34m)\u001b[0m\u001b[0;34m:\u001b[0m\u001b[0;34m\u001b[0m\u001b[0;34m\u001b[0m\u001b[0m\n\u001b[0;32m----> 2\u001b[0;31m     \u001b[0mc\u001b[0m \u001b[0;34m=\u001b[0m \u001b[0mvalor\u001b[0m \u001b[0;34m*\u001b[0m \u001b[0mveces\u001b[0m\u001b[0;34m\u001b[0m\u001b[0;34m\u001b[0m\u001b[0m\n\u001b[0m\u001b[1;32m      3\u001b[0m     \u001b[0;32mreturn\u001b[0m \u001b[0mc\u001b[0m\u001b[0;34m\u001b[0m\u001b[0;34m\u001b[0m\u001b[0m\n",
            "\u001b[0;31mTypeError\u001b[0m: unsupported operand type(s) for *: 'NoneType' and 'int'"
          ]
        }
      ]
    },
    {
      "cell_type": "code",
      "metadata": {
        "id": "MN1wnaZBeveS"
      },
      "source": [
        "def multiplicar( valor , veces ):\n",
        "    if valor == None:\n",
        "        c = -1\n",
        "    else:\n",
        "        c = valor * veces\n",
        "    return c"
      ],
      "execution_count": null,
      "outputs": []
    },
    {
      "cell_type": "code",
      "metadata": {
        "colab": {
          "base_uri": "https://localhost:8080/"
        },
        "id": "gtskyE09e9uE",
        "outputId": "190b19de-8978-427d-bdf4-b2d501b2773e"
      },
      "source": [
        "res = multiplicar( None , 5 )\n",
        "print(res)"
      ],
      "execution_count": null,
      "outputs": [
        {
          "output_type": "stream",
          "name": "stdout",
          "text": [
            "-1\n"
          ]
        }
      ]
    },
    {
      "cell_type": "markdown",
      "metadata": {
        "id": "FxJGmYExfm4D"
      },
      "source": [
        "# Parámetros y argumentos\n",
        "Estos dos conceptos son conceptos relacionados y su diferencia esta centrada en el momento que se emplea en una función, \n",
        "Es decir, en la función sumar de arriba cuando se declara se le llama parametro, y cuando se invoca se le llama argumento. "
      ]
    },
    {
      "cell_type": "markdown",
      "metadata": {
        "id": "nv4I-6kMfdnq"
      },
      "source": [
        "# Argumentos posicionales\n",
        "En python es posible determinar en que parámetros están dirigidos los argumentos según su posición."
      ]
    },
    {
      "cell_type": "code",
      "metadata": {
        "id": "KeHfFrHAgptN"
      },
      "source": [
        "def dividir( op1 , op2 ):\n",
        "    c = op1 / op2\n",
        "    return c"
      ],
      "execution_count": null,
      "outputs": []
    },
    {
      "cell_type": "code",
      "metadata": {
        "colab": {
          "base_uri": "https://localhost:8080/"
        },
        "id": "zRj-580cg2of",
        "outputId": "bfc5bb03-a235-42af-d800-8d250302b2de"
      },
      "source": [
        "num1 = 25\n",
        "num2 = 5\n",
        "res = dividir( num1 , num2)\n",
        "print(res)\n",
        "res = dividir( num2 , num1)\n",
        "print(res)"
      ],
      "execution_count": null,
      "outputs": [
        {
          "output_type": "stream",
          "name": "stdout",
          "text": [
            "5.0\n",
            "0.2\n"
          ]
        }
      ]
    },
    {
      "cell_type": "markdown",
      "metadata": {
        "id": "8O2LLP7ihUzp"
      },
      "source": [
        "#Argumentos con palabras clave (keywords)\n",
        "Es la posibilidad de indicarle a la función en tiempo de ejecución a que parámetro va dirigido un argumento de entrada"
      ]
    },
    {
      "cell_type": "code",
      "metadata": {
        "colab": {
          "base_uri": "https://localhost:8080/"
        },
        "id": "lwzKolP3hUEm",
        "outputId": "19b872e9-4b5a-433c-d9a7-eb08c87b8461"
      },
      "source": [
        "res = dividir( op2=num2 , op1=num1)\n",
        "print(res)"
      ],
      "execution_count": null,
      "outputs": [
        {
          "output_type": "stream",
          "name": "stdout",
          "text": [
            "5.0\n"
          ]
        }
      ]
    },
    {
      "cell_type": "code",
      "metadata": {
        "id": "Klg92wJ6iT8b"
      },
      "source": [
        "def  letra_D( caracter ):\n",
        "    print(f\"{caracter}\")\n",
        "    print(f\"{caracter}\")\n",
        "    print(f\"{caracter}\")\n",
        "    print(f\"{caracter}\")\n",
        "    print(f\"{caracter}\")"
      ],
      "execution_count": null,
      "outputs": []
    },
    {
      "cell_type": "code",
      "metadata": {
        "colab": {
          "base_uri": "https://localhost:8080/"
        },
        "id": "ZvAtQtqHis5i",
        "outputId": "df09327a-0528-4dcd-d894-264e5b80d6a7"
      },
      "source": [
        "letra_D(\"+\")"
      ],
      "execution_count": null,
      "outputs": [
        {
          "output_type": "stream",
          "name": "stdout",
          "text": [
            "+\n",
            "+\n",
            "+\n",
            "+\n",
            "+\n"
          ]
        }
      ]
    },
    {
      "cell_type": "markdown",
      "source": [
        "#Argumento por defecto\n",
        "Es la capacidad de las funciones de establecer un valor por defecto(Default)\n",
        "Sin no se envía un argumento a dicho parámetro,entonces se asigna que el producto se le asigno como default."
      ],
      "metadata": {
        "id": "gEZUaWyn-LBp"
      }
    },
    {
      "cell_type": "code",
      "source": [
        "def dividir( op1 , op2=2):\n",
        "    c = op1 / op2\n",
        "    return c\n",
        "print(dividir(25))"
      ],
      "metadata": {
        "colab": {
          "base_uri": "https://localhost:8080/"
        },
        "id": "owoiyaJZ-qad",
        "outputId": "3a619852-f49e-4caa-9e91-6620b8de6aae"
      },
      "execution_count": 2,
      "outputs": [
        {
          "output_type": "stream",
          "name": "stdout",
          "text": [
            "12.5\n"
          ]
        }
      ]
    },
    {
      "cell_type": "markdown",
      "source": [
        "Este concepto se puede ejemplifizar con la función \"print\""
      ],
      "metadata": {
        "id": "3rdUdiMd_GQl"
      }
    },
    {
      "cell_type": "code",
      "source": [
        "help(print)"
      ],
      "metadata": {
        "colab": {
          "base_uri": "https://localhost:8080/"
        },
        "id": "Evu77QGZ_Odf",
        "outputId": "ae53a80f-76d5-4e3e-c758-4088ca2d0b8a"
      },
      "execution_count": 3,
      "outputs": [
        {
          "output_type": "stream",
          "name": "stdout",
          "text": [
            "Help on built-in function print in module builtins:\n",
            "\n",
            "print(...)\n",
            "    print(value, ..., sep=' ', end='\\n', file=sys.stdout, flush=False)\n",
            "    \n",
            "    Prints the values to a stream, or to sys.stdout by default.\n",
            "    Optional keyword arguments:\n",
            "    file:  a file-like object (stream); defaults to the current sys.stdout.\n",
            "    sep:   string inserted between values, default a space.\n",
            "    end:   string appended after the last value, default a newline.\n",
            "    flush: whether to forcibly flush the stream.\n",
            "\n"
          ]
        }
      ]
    },
    {
      "cell_type": "code",
      "source": [
        "nombre = \"José\"\n",
        "edad = 18\n",
        "print(nombre,edad, sep='+--++-+-+-++-+---+-+-+-+-')\n",
        "print('Hola', end=\" \")\n",
        "print(\"---------\")"
      ],
      "metadata": {
        "colab": {
          "base_uri": "https://localhost:8080/"
        },
        "id": "Bbd8Bq8B_sBo",
        "outputId": "3e9ccc2f-74bc-42f3-ac54-d6f19267c5a6"
      },
      "execution_count": 6,
      "outputs": [
        {
          "output_type": "stream",
          "name": "stdout",
          "text": [
            "José+--++-+-+-++-+---+-+-+-+-18\n",
            "Hola ---------\n"
          ]
        }
      ]
    },
    {
      "cell_type": "markdown",
      "source": [
        "#Ejercicio de argumentos posicionales"
      ],
      "metadata": {
        "id": "EoV9iETGAwnT"
      }
    },
    {
      "cell_type": "code",
      "source": [
        "def comanda(comensal1=1,primer = \"Consome\", segundo=\"Arroz rojo\", tercero=\"Enchiladas\"):\n",
        "    print(f\"El comensal {comensal1} quiere: \")\n",
        "    print(\"\\t Entrada:\",primer)\n",
        "    print(\"\\t Medio:\",segundo)\n",
        "    print(\"\\t Plato fuerte:\",tercero)\n",
        "comanda()\n",
        "comanda(3,\"Enchiladas\",\"Arroz blanco\",\"Esparragos al horno\")\n",
        "comanda(segundo=\"Arroz blanco\",tercero=\"Esparragos al horno\",primer=\"Ensalada\",comensal1=3)"
      ],
      "metadata": {
        "colab": {
          "base_uri": "https://localhost:8080/"
        },
        "id": "YhYKwmWQA26b",
        "outputId": "db539795-4d2b-451a-ba0d-adff934f07c9"
      },
      "execution_count": 29,
      "outputs": [
        {
          "output_type": "stream",
          "name": "stdout",
          "text": [
            "El comensal 1 quiere: \n",
            "\t Entrada: Consome\n",
            "\t Medio: Arroz rojo\n",
            "\t Plato fuerte: Enchiladas\n",
            "El comensal 3 quiere: \n",
            "\t Entrada: Enchiladas\n",
            "\t Medio: Arroz blanco\n",
            "\t Plato fuerte: Esparragos al horno\n",
            "El comensal 3 quiere: \n",
            "\t Entrada: Ensalada\n",
            "\t Medio: Arroz blanco\n",
            "\t Plato fuerte: Esparragos al horno\n"
          ]
        }
      ]
    },
    {
      "cell_type": "markdown",
      "source": [
        "#Argumentos enviados en grupo en una tupla\n",
        "Esto sirve para enviar multiples argumentos a una función empleando el comodín *\n",
        "``````\n",
        "def mifun(*args):\n",
        "    <Cuerpo de la función>\n",
        "``````"
      ],
      "metadata": {
        "id": "i9UYlZO0DjTq"
      }
    },
    {
      "cell_type": "code",
      "source": [
        "def comanda2( *opciones):\n",
        "    print(f\"El comensal {opciones[0]} pidio:\")\n",
        "    print(f\"\\t Entrada:\",opciones[1])\n",
        "    print(f\"\\t Segundo:\",opciones[2])\n",
        "    print(f\"\\t Plato fuerte:\",opciones[3])\n",
        "    print(\"\\t Indicaciones extra:\")\n",
        "    for instruccion in opciones[4::]:\n",
        "        print(\"\\n\",instruccion)\n",
        "comanda2(1,\"Sopa de fideo\",\"Arroz\",\"Arrachera\",\"La arrachera que aún se mueva\",\"y de postre una gelatina\")"
      ],
      "metadata": {
        "colab": {
          "base_uri": "https://localhost:8080/"
        },
        "id": "jMH9TKGhDi0t",
        "outputId": "9a636ef8-f1f9-4346-c1c7-4c88b4dcc09c"
      },
      "execution_count": 25,
      "outputs": [
        {
          "output_type": "stream",
          "name": "stdout",
          "text": [
            "El comensal 1 pidio:\n",
            "\t Entrada: Sopa de fideo\n",
            "\t Segundo: Arroz\n",
            "\t Plato fuerte: Arrachera\n",
            "\t Indicaciones extra:\n",
            "\n",
            " La arrachera que aún se mueva\n",
            "\n",
            " y de postre una gelatina\n"
          ]
        }
      ]
    },
    {
      "cell_type": "markdown",
      "source": [
        "#Argumentos enviados en grupo en un diccionario\n",
        "Es el mismo concepto que en anterior, pero se usa el cómodin ** y se mapea a un diccionario\n",
        "``````\n",
        "def comanda3(**opciones):\n",
        "    <Cuerpo de la función>\n",
        "``````"
      ],
      "metadata": {
        "id": "FDfrigmEG0ZE"
      }
    },
    {
      "cell_type": "code",
      "source": [
        "def comanda3(**opciones):\n",
        "    print(opciones)\n",
        "    print(f\"El comensal {opciones['comensal']} pidió:\")\n",
        "comanda3(segundo=\"Arroz blanco\",tercero=\"Esparragos al horno\",primer=\"Ensalada\",comensal=3)"
      ],
      "metadata": {
        "colab": {
          "base_uri": "https://localhost:8080/"
        },
        "id": "wxO09KiPHMjx",
        "outputId": "936dee81-27a6-4517-ece7-9785d8bca262"
      },
      "execution_count": 31,
      "outputs": [
        {
          "output_type": "stream",
          "name": "stdout",
          "text": [
            "{'segundo': 'Arroz blanco', 'tercero': 'Esparragos al horno', 'primer': 'Ensalada', 'comensal': 3}\n",
            "El comensal 3 pidió:\n"
          ]
        }
      ]
    },
    {
      "cell_type": "code",
      "source": [
        "def comanda3(**opciones):\n",
        "    ops = opciones.keys()\n",
        "    print(ops)\n",
        "    for key in ops:\n",
        "        print(f\"{key} = {opciones[key]}\")\n",
        "comanda3(segundo=\"Arroz blanco\",tercero=\"Esparragos al horno\",primer=\"Ensalada\",comensal=3)"
      ],
      "metadata": {
        "colab": {
          "base_uri": "https://localhost:8080/"
        },
        "id": "Nn2qoM_EI1EF",
        "outputId": "da7ac251-ba1d-4b96-f516-f480269226ed"
      },
      "execution_count": 34,
      "outputs": [
        {
          "output_type": "stream",
          "name": "stdout",
          "text": [
            "dict_keys(['segundo', 'tercero', 'primer', 'comensal'])\n",
            "segundo = Arroz blanco\n",
            "tercero = Esparragos al horno\n",
            "primer = Ensalada\n",
            "comensal = 3\n"
          ]
        }
      ]
    },
    {
      "cell_type": "code",
      "source": [
        "#Modularidad y biblioteca\n",
        "Todos los lenguajes de programación tienen la capacidad de compartircódigo entre la comunidad de programadores.\n",
        "Para ello cada lenguajeestablece un mécanismo"
      ],
      "metadata": {
        "id": "av2o3-Z-Jn1y"
      },
      "execution_count": null,
      "outputs": []
    },
    {
      "cell_type": "code",
      "source": [
        "!pip install simple_chalk"
      ],
      "metadata": {
        "colab": {
          "base_uri": "https://localhost:8080/"
        },
        "id": "O270ldz6MDRs",
        "outputId": "0a5e18dd-b162-49cb-f19f-e4e96f570670"
      },
      "execution_count": 37,
      "outputs": [
        {
          "output_type": "stream",
          "name": "stdout",
          "text": [
            "Collecting simple_chalk\n",
            "  Downloading simple_chalk-0.1.0.tar.gz (13 kB)\n",
            "Building wheels for collected packages: simple-chalk\n",
            "  Building wheel for simple-chalk (setup.py) ... \u001b[?25l\u001b[?25hdone\n",
            "  Created wheel for simple-chalk: filename=simple_chalk-0.1.0-py3-none-any.whl size=22163 sha256=97035837c2b19de7faaf6a42de042cf3629ef2ead994c035e76b5fa6cdb31182\n",
            "  Stored in directory: /root/.cache/pip/wheels/24/e2/84/d54838032016039eef79df1137b91defaa6db068d825dfcdcd\n",
            "Successfully built simple-chalk\n",
            "Installing collected packages: simple-chalk\n",
            "Successfully installed simple-chalk-0.1.0\n"
          ]
        }
      ]
    },
    {
      "cell_type": "code",
      "source": [
        "from simple_chalk import chalk. yellow\n",
        "print(chalk.yelow(\"Hola en color amarillo\"))"
      ],
      "metadata": {
        "id": "_0LZtUpYM5hC"
      },
      "execution_count": null,
      "outputs": []
    },
    {
      "cell_type": "markdown",
      "source": [
        "#¿Como escribo un módulo (biblioteca)?\n",
        "Se define en un archivo de biblioteca"
      ],
      "metadata": {
        "id": "O3EHOrNvPDBs"
      }
    },
    {
      "cell_type": "code",
      "source": [
        "!cat Mi_módulo.py"
      ],
      "metadata": {
        "colab": {
          "base_uri": "https://localhost:8080/"
        },
        "id": "rR1QEf3mPRt9",
        "outputId": "277237fb-9302-4d2e-88d0-a801251f2bd0"
      },
      "execution_count": 42,
      "outputs": [
        {
          "output_type": "stream",
          "name": "stdout",
          "text": [
            "def sumar( a , b ):\r\n",
            "    return a + b\r\n",
            "\r\n",
            "def mi_print( texto , ,final ):\r\n",
            "    print(\"Super:\" , text , end=final)"
          ]
        }
      ]
    },
    {
      "cell_type": "code",
      "source": [
        "import Mi_módulo\n",
        "res = Mi_módulo.sumar( 7 , 5)\n",
        "print(res)\n",
        "\n",
        "Mi_módulo.mi_print(\"Jesús\",\"\\n\")"
      ],
      "metadata": {
        "colab": {
          "base_uri": "https://localhost:8080/"
        },
        "id": "6nONPP-KQvGa",
        "outputId": "4f081e53-a820-41da-d365-7b1ed136a6e7"
      },
      "execution_count": 1,
      "outputs": [
        {
          "output_type": "stream",
          "name": "stdout",
          "text": [
            "12\n",
            "Super: Jesús\n"
          ]
        }
      ]
    },
    {
      "cell_type": "code",
      "source": [
        "from Mi_módulo import sumar , mi_print\n",
        "res = sumar( 5 , 3)\n",
        "print(res)\n",
        "mi_print(\"Jesús\" , \"\\n\")"
      ],
      "metadata": {
        "colab": {
          "base_uri": "https://localhost:8080/"
        },
        "id": "F7ibCQ8vR797",
        "outputId": "1a437636-fbc4-471b-bb88-10839562a056"
      },
      "execution_count": 9,
      "outputs": [
        {
          "output_type": "stream",
          "name": "stdout",
          "text": [
            "8\n",
            "Super: Jesús\n"
          ]
        }
      ]
    },
    {
      "cell_type": "markdown",
      "source": [
        "#Manejo de archivos con python3\n",
        "- Leer archivos\n",
        "- Escribir archivos\n",
        "- Manipular la información leída en el archivo\n",
        "- "
      ],
      "metadata": {
        "id": "97u8lMsWSpbF"
      }
    },
    {
      "cell_type": "code",
      "source": [
        "archivo = open( \"salida.txt\" , \"wt\" )\n",
        "archivo.write(\"Hola mundo\")\n",
        "archivo.close"
      ],
      "metadata": {
        "colab": {
          "base_uri": "https://localhost:8080/"
        },
        "id": "4GxaRbVrS7-z",
        "outputId": "c8af93d7-d545-41ba-e460-82128941946e"
      },
      "execution_count": 13,
      "outputs": [
        {
          "output_type": "execute_result",
          "data": {
            "text/plain": [
              "<function TextIOWrapper.close>"
            ]
          },
          "metadata": {},
          "execution_count": 13
        }
      ]
    },
    {
      "cell_type": "code",
      "source": [
        "!cat salida.txt"
      ],
      "metadata": {
        "colab": {
          "base_uri": "https://localhost:8080/"
        },
        "id": "RNsnCwyfTM3l",
        "outputId": "3bae5837-76de-4edd-990f-f8546d3a8566"
      },
      "execution_count": 14,
      "outputs": [
        {
          "output_type": "stream",
          "name": "stdout",
          "text": [
            "Hola mundo"
          ]
        }
      ]
    }
  ]
}