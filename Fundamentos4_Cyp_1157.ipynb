{
  "nbformat": 4,
  "nbformat_minor": 0,
  "metadata": {
    "colab": {
      "name": "Fundamentos4_Cyp_1157.ipynb",
      "provenance": [],
      "authorship_tag": "ABX9TyO3hK8giKYZbIhY0bUwgazt",
      "include_colab_link": true
    },
    "kernelspec": {
      "name": "python3",
      "display_name": "Python 3"
    },
    "language_info": {
      "name": "python"
    }
  },
  "cells": [
    {
      "cell_type": "markdown",
      "metadata": {
        "id": "view-in-github",
        "colab_type": "text"
      },
      "source": [
        "<a href=\"https://colab.research.google.com/github/DiegoArreola23/CyP-1157/blob/main/Fundamentos4_Cyp_1157.ipynb\" target=\"_parent\"><img src=\"https://colab.research.google.com/assets/colab-badge.svg\" alt=\"Open In Colab\"/></a>"
      ]
    },
    {
      "cell_type": "markdown",
      "metadata": {
        "id": "YOjgfCizjoBc"
      },
      "source": [
        "#Fecha: 02/12/2021\n"
      ]
    },
    {
      "cell_type": "markdown",
      "metadata": {
        "id": "BuXiFTrfVLr_"
      },
      "source": [
        "Una función es una unidad de código reutilizable, además de ser un mecánismo para organizar código.\n",
        "La gran ventaja de emplear funciones es simplificar la programación.\n",
        "\n",
        "### Estructura\n",
        "Una función puede tomar cualquier cantidad de parametros de entrada(de cualquier tipo) y retornar unicamente un sólo valor.\n",
        "Un parámetro de entrada es un valor que recibre la función para realizar sus operaciones.\n",
        "Con una función se pueden hacer dos cosas:\n",
        "1. Definirla\n",
        "2. Invocarla (ejecutarla)\n",
        "\n",
        "La gran ventaja de tener una función declarada es que la podemos utilizar cuando se desee"
      ]
    },
    {
      "cell_type": "markdown",
      "metadata": {
        "id": "GiijmFCgUGmj"
      },
      "source": [
        "#Modularidad(Funciones)\n"
      ]
    },
    {
      "cell_type": "code",
      "metadata": {
        "id": "_qWelv42UEGk"
      },
      "source": [
        "def sumar( op1 , op2 ):\n",
        "    res = op1 + op2\n",
        "    return res"
      ],
      "execution_count": 1,
      "outputs": []
    },
    {
      "cell_type": "code",
      "metadata": {
        "colab": {
          "base_uri": "https://localhost:8080/"
        },
        "id": "i4myNWwbYDGE",
        "outputId": "b9b3df37-2531-441d-e8fd-af70772f63e4"
      },
      "source": [
        "res = sumar( 2 , 5 )\n",
        "print(res)"
      ],
      "execution_count": 3,
      "outputs": [
        {
          "output_type": "stream",
          "name": "stdout",
          "text": [
            "7\n"
          ]
        }
      ]
    },
    {
      "cell_type": "code",
      "metadata": {
        "colab": {
          "base_uri": "https://localhost:8080/"
        },
        "id": "qbKn4wuWZt8u",
        "outputId": "2a9f3feb-4113-4370-c71e-2569bb6ac8de"
      },
      "source": [
        "print(\"Hola\",\"Diego\",sep=\"_\")"
      ],
      "execution_count": 7,
      "outputs": [
        {
          "output_type": "stream",
          "name": "stdout",
          "text": [
            "Hola_Diego\n"
          ]
        }
      ]
    },
    {
      "cell_type": "code",
      "metadata": {
        "colab": {
          "base_uri": "https://localhost:8080/"
        },
        "id": "YU40LVGoaRNr",
        "outputId": "8a3d6b94-bedc-4944-a7e6-e044564e2314"
      },
      "source": [
        "def imprime_cuadro():\n",
        "    print(\"****\")\n",
        "    print(\"****\")\n",
        "    print(\"****\")\n",
        "    print(\"****\")\n",
        "imprime_cuadro()"
      ],
      "execution_count": 9,
      "outputs": [
        {
          "output_type": "stream",
          "name": "stdout",
          "text": [
            "****\n",
            "****\n",
            "****\n",
            "****\n"
          ]
        }
      ]
    },
    {
      "cell_type": "markdown",
      "metadata": {
        "id": "9a5bZ_wPa8Zf"
      },
      "source": [
        "#Valor de retorno de una función\n",
        "regla de oro.- Una función siempre retorna un solo valor, inclusive si ese valor es el vacio."
      ]
    },
    {
      "cell_type": "code",
      "metadata": {
        "colab": {
          "base_uri": "https://localhost:8080/"
        },
        "id": "xsFy0R-TbQU0",
        "outputId": "4fd239e7-1fea-4551-9f6e-924d2955d57e"
      },
      "source": [
        "# invocar sumar\n",
        "res = sumar(7 , 8)\n",
        "print(res)\n",
        "#invocar la función pintar cuadro\n",
        "res = imprime_cuadro()\n",
        "print(res)"
      ],
      "execution_count": 11,
      "outputs": [
        {
          "output_type": "stream",
          "name": "stdout",
          "text": [
            "15\n",
            "****\n",
            "****\n",
            "****\n",
            "****\n",
            "None\n"
          ]
        }
      ]
    },
    {
      "cell_type": "markdown",
      "metadata": {
        "id": "shhaqHLOdKYi"
      },
      "source": [
        "# La palabra reservada NONE de python.\n",
        "Esta palabra reservada significa vacío, equivalente a la palabra void del lenguaje C, C++, Y Java.\n",
        "Se usa para indicar un return vacío o que recibre un parámetro vacío."
      ]
    },
    {
      "cell_type": "code",
      "metadata": {
        "id": "W6WmmemFd7rU"
      },
      "source": [
        "def multiplicar( valor , veces ):\n",
        "    c = valor * veces\n",
        "    return c"
      ],
      "execution_count": 12,
      "outputs": []
    },
    {
      "cell_type": "code",
      "metadata": {
        "colab": {
          "base_uri": "https://localhost:8080/",
          "height": 269
        },
        "id": "LR0zGcQIeIQ7",
        "outputId": "2f615d97-ae2c-4273-807b-24976f11c895"
      },
      "source": [
        "res = multiplicar( None , 5 )\n",
        "print(res)"
      ],
      "execution_count": 14,
      "outputs": [
        {
          "output_type": "error",
          "ename": "TypeError",
          "evalue": "ignored",
          "traceback": [
            "\u001b[0;31m---------------------------------------------------------------------------\u001b[0m",
            "\u001b[0;31mTypeError\u001b[0m                                 Traceback (most recent call last)",
            "\u001b[0;32m<ipython-input-14-1ab17e87768e>\u001b[0m in \u001b[0;36m<module>\u001b[0;34m()\u001b[0m\n\u001b[0;32m----> 1\u001b[0;31m \u001b[0mres\u001b[0m \u001b[0;34m=\u001b[0m \u001b[0mmultiplicar\u001b[0m\u001b[0;34m(\u001b[0m \u001b[0;32mNone\u001b[0m \u001b[0;34m,\u001b[0m \u001b[0;36m5\u001b[0m \u001b[0;34m)\u001b[0m\u001b[0;34m\u001b[0m\u001b[0;34m\u001b[0m\u001b[0m\n\u001b[0m\u001b[1;32m      2\u001b[0m \u001b[0mprint\u001b[0m\u001b[0;34m(\u001b[0m\u001b[0mres\u001b[0m\u001b[0;34m)\u001b[0m\u001b[0;34m\u001b[0m\u001b[0;34m\u001b[0m\u001b[0m\n",
            "\u001b[0;32m<ipython-input-12-bbcffe311048>\u001b[0m in \u001b[0;36mmultiplicar\u001b[0;34m(valor, veces)\u001b[0m\n\u001b[1;32m      1\u001b[0m \u001b[0;32mdef\u001b[0m \u001b[0mmultiplicar\u001b[0m\u001b[0;34m(\u001b[0m \u001b[0mvalor\u001b[0m \u001b[0;34m,\u001b[0m \u001b[0mveces\u001b[0m \u001b[0;34m)\u001b[0m\u001b[0;34m:\u001b[0m\u001b[0;34m\u001b[0m\u001b[0;34m\u001b[0m\u001b[0m\n\u001b[0;32m----> 2\u001b[0;31m     \u001b[0mc\u001b[0m \u001b[0;34m=\u001b[0m \u001b[0mvalor\u001b[0m \u001b[0;34m*\u001b[0m \u001b[0mveces\u001b[0m\u001b[0;34m\u001b[0m\u001b[0;34m\u001b[0m\u001b[0m\n\u001b[0m\u001b[1;32m      3\u001b[0m     \u001b[0;32mreturn\u001b[0m \u001b[0mc\u001b[0m\u001b[0;34m\u001b[0m\u001b[0;34m\u001b[0m\u001b[0m\n",
            "\u001b[0;31mTypeError\u001b[0m: unsupported operand type(s) for *: 'NoneType' and 'int'"
          ]
        }
      ]
    },
    {
      "cell_type": "code",
      "metadata": {
        "id": "MN1wnaZBeveS"
      },
      "source": [
        "def multiplicar( valor , veces ):\n",
        "    if valor == None:\n",
        "        c = -1\n",
        "    else:\n",
        "        c = valor * veces\n",
        "    return c"
      ],
      "execution_count": 16,
      "outputs": []
    },
    {
      "cell_type": "code",
      "metadata": {
        "colab": {
          "base_uri": "https://localhost:8080/"
        },
        "id": "gtskyE09e9uE",
        "outputId": "190b19de-8978-427d-bdf4-b2d501b2773e"
      },
      "source": [
        "res = multiplicar( None , 5 )\n",
        "print(res)"
      ],
      "execution_count": 17,
      "outputs": [
        {
          "output_type": "stream",
          "name": "stdout",
          "text": [
            "-1\n"
          ]
        }
      ]
    },
    {
      "cell_type": "markdown",
      "metadata": {
        "id": "FxJGmYExfm4D"
      },
      "source": [
        "# Parámetros y argumentos\n",
        "Estos dos conceptos son conceptos relacionados y su diferencia esta centrada en el momento que se emplea en una función, \n",
        "Es decir, en la función sumar de arriba cuando se declara se le llama parametro, y cuando se invoca se le llama argumento. "
      ]
    },
    {
      "cell_type": "markdown",
      "metadata": {
        "id": "nv4I-6kMfdnq"
      },
      "source": [
        "# Argumentos posicionales\n",
        "En python es posible determinar en que parámetros están dirigidos los argumentos según su posición."
      ]
    },
    {
      "cell_type": "code",
      "metadata": {
        "id": "KeHfFrHAgptN"
      },
      "source": [
        "def dividir( op1 , op2 ):\n",
        "    c = op1 / op2\n",
        "    return c"
      ],
      "execution_count": 23,
      "outputs": []
    },
    {
      "cell_type": "code",
      "metadata": {
        "colab": {
          "base_uri": "https://localhost:8080/"
        },
        "id": "zRj-580cg2of",
        "outputId": "bfc5bb03-a235-42af-d800-8d250302b2de"
      },
      "source": [
        "num1 = 25\n",
        "num2 = 5\n",
        "res = dividir( num1 , num2)\n",
        "print(res)\n",
        "res = dividir( num2 , num1)\n",
        "print(res)"
      ],
      "execution_count": 24,
      "outputs": [
        {
          "output_type": "stream",
          "name": "stdout",
          "text": [
            "5.0\n",
            "0.2\n"
          ]
        }
      ]
    },
    {
      "cell_type": "markdown",
      "metadata": {
        "id": "8O2LLP7ihUzp"
      },
      "source": [
        "#Argumentos con palabras clave (keywords)\n",
        "Es la posibilidad de indicarle a la función en tiempo de ejecución a que parámetro va dirigido un argumento de entrada"
      ]
    },
    {
      "cell_type": "code",
      "metadata": {
        "colab": {
          "base_uri": "https://localhost:8080/"
        },
        "id": "lwzKolP3hUEm",
        "outputId": "19b872e9-4b5a-433c-d9a7-eb08c87b8461"
      },
      "source": [
        "res = dividir( op2=num2 , op1=num1)\n",
        "print(res)"
      ],
      "execution_count": 25,
      "outputs": [
        {
          "output_type": "stream",
          "name": "stdout",
          "text": [
            "5.0\n"
          ]
        }
      ]
    },
    {
      "cell_type": "code",
      "metadata": {
        "id": "Klg92wJ6iT8b"
      },
      "source": [
        "def  letra_D( caracter ):\n",
        "    print(f\"{caracter}\")\n",
        "    print(f\"{caracter}\")\n",
        "    print(f\"{caracter}\")\n",
        "    print(f\"{caracter}\")\n",
        "    print(f\"{caracter}\")"
      ],
      "execution_count": 35,
      "outputs": []
    },
    {
      "cell_type": "code",
      "metadata": {
        "colab": {
          "base_uri": "https://localhost:8080/"
        },
        "id": "ZvAtQtqHis5i",
        "outputId": "df09327a-0528-4dcd-d894-264e5b80d6a7"
      },
      "source": [
        "letra_D(\"+\")"
      ],
      "execution_count": 36,
      "outputs": [
        {
          "output_type": "stream",
          "name": "stdout",
          "text": [
            "+\n",
            "+\n",
            "+\n",
            "+\n",
            "+\n"
          ]
        }
      ]
    }
  ]
}