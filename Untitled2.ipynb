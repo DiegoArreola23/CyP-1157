{
  "nbformat": 4,
  "nbformat_minor": 0,
  "metadata": {
    "colab": {
      "name": "Untitled2.ipynb",
      "provenance": [],
      "authorship_tag": "ABX9TyMc13PIf/8AT9/BtfRcfWQK",
      "include_colab_link": true
    },
    "kernelspec": {
      "name": "python3",
      "display_name": "Python 3"
    },
    "language_info": {
      "name": "python"
    }
  },
  "cells": [
    {
      "cell_type": "markdown",
      "metadata": {
        "id": "view-in-github",
        "colab_type": "text"
      },
      "source": [
        "<a href=\"https://colab.research.google.com/github/DiegoArreola23/CyP-1157/blob/main/Untitled2.ipynb\" target=\"_parent\"><img src=\"https://colab.research.google.com/assets/colab-badge.svg\" alt=\"Open In Colab\"/></a>"
      ]
    },
    {
      "cell_type": "code",
      "metadata": {
        "colab": {
          "base_uri": "https://localhost:8080/"
        },
        "id": "l93jyRfXJRgt",
        "outputId": "75a0ceb1-ab94-42b7-a67c-b9f2cf840492"
      },
      "source": [
        "pelicula = {\"nombre\":{\n",
        "            \"nombre original\" : [\"Avengers: ENDGAME\"],\n",
        "            \"nombre en español\":\"Vengadores: Final del juego\"\n",
        "            }\n",
        "            \"Compañia\":{\n",
        "                \"Productora de la pelicula\": [\"Marvel studios y Disney\"],\n",
        "                \"Perteneciente de los derechos\": \"Marvel studios y Disney\"\n",
        "\n",
        "            }\n",
        "            \"Recaudación de dinero\":{ \n",
        "                \"En Estados unidos\": \"Recaudo 854,000,000 de dólares\"\n",
        "                \"En China\" : \"Recaudo 629,000,000 de dólares\"\n",
        "                \"En México\" : \"Recaudo 12,500,000 de dólares\"\n",
        "            }\n",
        "            \"Duracion de la pelicula\":{\n",
        "                \"Duración\": \"La pelicula dura 3 horas y 2 minutos\"\n",
        "\n",
        "            }\n",
        "            \n",
        "            }\n",
        "print(pelicula)"
      ],
      "execution_count": 2,
      "outputs": [
        {
          "output_type": "stream",
          "name": "stdout",
          "text": [
            "{'nombre': {'nombre original': ['Avengers: ENDGAME'], 'nombre en español': 'Vengadores: Final del juego'}}\n"
          ]
        }
      ]
    }
  ]
}