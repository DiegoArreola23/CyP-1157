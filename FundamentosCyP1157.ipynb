{
  "nbformat": 4,
  "nbformat_minor": 0,
  "metadata": {
    "colab": {
      "name": "FundamentosCyP1157.ipynb",
      "provenance": [],
      "authorship_tag": "ABX9TyOdp/PId83dRela9UdSqDPj",
      "include_colab_link": true
    },
    "kernelspec": {
      "name": "python3",
      "display_name": "Python 3"
    },
    "language_info": {
      "name": "python"
    }
  },
  "cells": [
    {
      "cell_type": "markdown",
      "metadata": {
        "id": "view-in-github",
        "colab_type": "text"
      },
      "source": [
        "<a href=\"https://colab.research.google.com/github/DiegoArreola23/CyP-1157/blob/main/FundamentosCyP1157.ipynb\" target=\"_parent\"><img src=\"https://colab.research.google.com/assets/colab-badge.svg\" alt=\"Open In Colab\"/></a>"
      ]
    },
    {
      "cell_type": "markdown",
      "metadata": {
        "id": "nyVu6zlCu2nR"
      },
      "source": [
        "# Fecha de hoy: 21 de octubre del 2021"
      ]
    },
    {
      "cell_type": "code",
      "metadata": {
        "colab": {
          "base_uri": "https://localhost:8080/"
        },
        "id": "dtuD-cObVhQF",
        "outputId": "f96730cf-21b5-45f5-e724-d7acbbbaed70"
      },
      "source": [
        "nombre = 'Diego'  #Tipo de dato String (cadena de carácteres)\n",
        "\n",
        "print( nombre )\n",
        "\n"
      ],
      "execution_count": null,
      "outputs": [
        {
          "output_type": "stream",
          "name": "stdout",
          "text": [
            "Diego\n"
          ]
        }
      ]
    },
    {
      "cell_type": "markdown",
      "metadata": {
        "id": "H1JcSFncXMZU"
      },
      "source": [
        "#Tipos de datos en Python\n",
        "## Tipos simples\n",
        "- str ---> String cadena de carácteres.\n",
        "- int --> Números enteros\n",
        "- float --->Números con notación de punto florante\n",
        "- complex -->Números completos\n",
        "- bool ----Boleano (True o Fals)\n",
        "- byte ---> 8 bites\n",
        "\n",
        "##Tipos de datos estructurados (Compuestos)\n",
        "- list ---> Listas\n",
        "- dict ---> Diccionarios\n",
        "- set y frozenset ---> Conjuntos\n",
        "- tuple --> Listas no mutables"
      ]
    },
    {
      "cell_type": "code",
      "metadata": {
        "colab": {
          "base_uri": "https://localhost:8080/"
        },
        "id": "kTRitfhcaQel",
        "outputId": "6e1dd212-7957-417d-b990-795d8ca3beb9"
      },
      "source": [
        "import sys\n",
        "edad = 18\n",
        "print (\"Tu edad es\", edad, \"años\")  # al final de una línea de código\n",
        "# este es un comentario de línea simple\n",
        "\n",
        "\"\"\"\n",
        "Comentario de múltiple línea\n",
        "En lenguaje c++ y Java el comentario de múltiple línea es con: /*  ...........*/\n",
        "\n",
        "En lenguaje c++ y Java el comentario de una sola línea es con: //\n",
        "\n",
        "Aquí puedes explicar en prosa el segmento de un código para futuras referencias\"\"\"\n",
        "\n",
        "# Tipos de datos númericos   int y float\n",
        "\n",
        "print(sys.getsizeof(edad))\n",
        "# El tipo de dato INT utiliza diferente cantidad de bits según el lenguaje de programación por ejemplo en c utiliza 16 bits\n",
        "\n",
        "edad = edad + 1\n",
        "print (edad)\n",
        "\n",
        "estatura = 1.56\n",
        "print (\"Tu estatura es\",estatura)\n",
        "print (sys.getsizeof(estatura))\n",
        "\n",
        "estatura = estatura + 0.1\n",
        "print(estatura)\n",
        "print( round(estatura,2))\n",
        "\n",
        "edad = 18\n",
        "\n",
        "edad += 1            \n",
        "print(edad)\n",
        "\n",
        "edad -= 1    #edad = edad - 1\n",
        "\n",
        "print(edad)\n",
        "\n",
        "edad += 1\n",
        "edad /= 2   #edad = edad / 2\n",
        "print(\"La mitad de tu edad es\",edad)\n",
        "\n",
        "\n",
        "edad = 21 // 2\n",
        "# volver a calcular la mitad de la edad pero solo dejar la parte entera\n",
        "\n",
        "print(\"La mitad de tu edad es\",edad)\n",
        "\n",
        "# La mayoria de los leng. no permite operaciones entre diferantes tipos de datos, en python\n",
        "\n",
        "número = edad / 2.0\n",
        "print(número)\n",
        "\n",
        "\n",
        "número *= 3\n",
        "print(número)\n",
        "\n",
        "\n",
        "número = 5.0\n",
        "número = número ** 2\n",
        "print(número)\n",
        "\n",
        "# Operador módulo\n",
        "\n"
      ],
      "execution_count": null,
      "outputs": [
        {
          "output_type": "stream",
          "name": "stdout",
          "text": [
            "Tu edad es 18 años\n",
            "28\n",
            "19\n",
            "Tu estatura es 1.56\n",
            "24\n",
            "1.6600000000000001\n",
            "1.66\n",
            "19\n",
            "18\n",
            "La mitad de tu edad es 9.5\n",
            "La mitad de tu edad es 10\n",
            "5.0\n",
            "15.0\n",
            "25.0\n"
          ]
        }
      ]
    },
    {
      "cell_type": "markdown",
      "metadata": {
        "id": "EFHGVd1ijVZB"
      },
      "source": [
        "Tarea hacer un resúmen de mínimo una cuartilla de los origenes del lenguaje python.\n",
        "\n",
        "- ¿Porqué de su creación?.\n",
        "- Características principales. \n",
        "- Diferencias con otros leng.\n",
        "\n",
        "Forma de entrega; A mano en un cuaderno, sacarle foto (Scanner) y subir la foto"
      ]
    },
    {
      "cell_type": "code",
      "metadata": {
        "colab": {
          "base_uri": "https://localhost:8080/"
        },
        "id": "5iKx-6YLluTL",
        "outputId": "d1058f2c-7a0c-4c3e-a277-d48afabc9ce2"
      },
      "source": [
        "número = 21\n",
        "print(número / 2)\n",
        "print(número // 2)\n",
        "# El operador módulo da como resultado el residuo de una división entera\n",
        "\n",
        "print(número % 2)\n",
        "\n",
        "número = 24\n",
        "print(\"Residuo de 24 / 5 es\", número % 5)\n",
        "\n",
        "## Operadores relacionales (Lógicos)\n",
        "print( número % 2 ==0)\n",
        "\n",
        "print(\"24 es diferente de 23?\", número != 23)\n",
        "print( \"24 es menor que 23?\", número < 23)\n",
        "print( \"24 es mayor o igual que 23?\", número >= 23)\n",
        "print( \"24 es menor que o igual que 24?\", número <= 24)\n",
        "\n",
        "print(\"El tipo de dato de la variable var número es:\",type (número))\n",
        "print(\"El tipo de dato de la variable var número es:\",type (número/2.0))"
      ],
      "execution_count": null,
      "outputs": [
        {
          "output_type": "stream",
          "name": "stdout",
          "text": [
            "10.5\n",
            "10\n",
            "1\n",
            "Residuo de 24 / 5 es 4\n",
            "True\n",
            "24 es diferente de 23? True\n",
            "24 es menor que 23? False\n",
            "24 es mayor o igual que 23? True\n",
            "24 es menor que o igual que 24? True\n",
            "El tipo de dato de la variable var número es: <class 'int'>\n",
            "El tipo de dato de la variable var número es: <class 'float'>\n"
          ]
        }
      ]
    },
    {
      "cell_type": "markdown",
      "metadata": {
        "id": "AzbrnEsHpj6h"
      },
      "source": [
        "# Tipo de dato string (str) en python\n",
        "\n",
        "- Se maneja como un arreglo (Tipo de dato compuesto) \n",
        "- Se puede acceder a los elementos del str por medio del índice del carácter\n",
        "- Es mutable (Se puede utilizar para variables)\n",
        "- Tiene metódos útiles (Potentes)\n",
        "- slicing\n"
      ]
    },
    {
      "cell_type": "code",
      "metadata": {
        "colab": {
          "base_uri": "https://localhost:8080/",
          "height": 120
        },
        "id": "z5UmSjTgqS2_",
        "outputId": "6b9100a1-1da2-4716-a93a-122b6f9f3733"
      },
      "source": [
        "nombre = 'Diego'\n",
        "carrera = \"Ingeniería en computación\"\n",
        "frase = \"\"\" El conocimiento me persigue....... pero  yo soy más rápido\"\"\"\n",
        "print(nombre)\n",
        "print(carrera)\n",
        "print(frase)\n",
        "\n",
        "# La función type de python te devuelve al  tipo de dato de una variable\n",
        "print(type(nombre))\n",
        "paterno = str ('Gomez')\n",
        "print(paterno)\n"
      ],
      "execution_count": null,
      "outputs": [
        {
          "output_type": "stream",
          "name": "stdout",
          "text": [
            "Diego\n",
            "Ingeniería en computación\n",
            " El conocimiento me persigue....... pero  yo soy más rápido\n",
            "<class 'str'>\n",
            "Gomez\n"
          ]
        },
        {
          "output_type": "execute_result",
          "data": {
            "application/vnd.google.colaboratory.intrinsic+json": {
              "type": "string"
            },
            "text/plain": [
              "'Gomez'"
            ]
          },
          "metadata": {},
          "execution_count": 2
        }
      ]
    },
    {
      "cell_type": "markdown",
      "metadata": {
        "id": "q3yInsg5ojaC"
      },
      "source": [
        "##Una clase (class) es un tipo de dato compuesto\n",
        "#A la sintaxis escrita para elegir un grupo de datos se les llama selector \n",
        "En caso de strings y listas(lst) se usan los caracteres '[' y ']'\n",
        "1. En  todos los lenguajes los arregolos inician con \"0\"\n",
        "2. En python no existe como talel tipo de dato arreglo, el concepto es sustituido por las listas.\n",
        "3. Los estring se comportan como un arreglo en la mayoría de los lenguajes\n",
        "4. En python se acepta en indexado negativo, en otros lenguajes NO."
      ]
    },
    {
      "cell_type": "code",
      "metadata": {
        "colab": {
          "base_uri": "https://localhost:8080/"
        },
        "id": "K3IXzQi8pRi8",
        "outputId": "d7fe17a6-de30-4b51-d26b-c8a7024f13fa"
      },
      "source": [
        "carrera = \"Ingeniería en computación\"\n",
        "print(carrera)\n",
        "print(carrera[2])\n",
        "print(carrera[8])\n",
        "print(carrera[24])\n",
        "print(carrera[-1])\n",
        "print(carrera[-25])\n",
        "\n",
        "\n",
        "# Adelantando el tema ciclo FOR\n",
        "for letra in carrera:\n",
        "    print(\"---->\", letra, \"<----\")"
      ],
      "execution_count": null,
      "outputs": [
        {
          "output_type": "stream",
          "name": "stdout",
          "text": [
            "Ingeniería en computación\n",
            "g\n",
            "í\n",
            "n\n",
            "n\n",
            "I\n",
            "----> I <----\n",
            "----> n <----\n",
            "----> g <----\n",
            "----> e <----\n",
            "----> n <----\n",
            "----> i <----\n",
            "----> e <----\n",
            "----> r <----\n",
            "----> í <----\n",
            "----> a <----\n",
            "---->   <----\n",
            "----> e <----\n",
            "----> n <----\n",
            "---->   <----\n",
            "----> c <----\n",
            "----> o <----\n",
            "----> m <----\n",
            "----> p <----\n",
            "----> u <----\n",
            "----> t <----\n",
            "----> a <----\n",
            "----> c <----\n",
            "----> i <----\n",
            "----> ó <----\n",
            "----> n <----\n"
          ]
        }
      ]
    },
    {
      "cell_type": "markdown",
      "metadata": {
        "id": "iU6oV2xovDCO"
      },
      "source": [
        "#slicing (rebanado)de cadenas\n",
        "permite seleccionar subcadebas con un operador\n",
        "### [inicio : stop : incremento]\n",
        "El stop no se incluye, es por eso que se agrega una posición extra\n",
        "### Slicing y valores por defecto\n",
        "inicio por defecto siempre será 0 :\n",
        "stop: tamaño del arreglo (indexado positivo o indexado negativo) "
      ]
    },
    {
      "cell_type": "code",
      "metadata": {
        "colab": {
          "base_uri": "https://localhost:8080/"
        },
        "id": "BUvFA-VrvbNn",
        "outputId": "c91a4c9a-9ff1-455f-dc5b-75a7c81d45c0"
      },
      "source": [
        "carrera = \"Ingeniería en computación\"\n",
        "print( carrera [0:10:1])\n",
        "#El stop no se incluye, es por eso que se agrega una posición extra\n",
        "print (carrera[14:25:1])\n",
        "#Ahora con indexado negativo\n",
        "print (carrera[-11:-1:1])\n",
        "print(\"--------------\")\n",
        "print( carrera [:10:])\n",
        "print (carrera[14:25:])\n",
        "print (carrera[-11:  :1])\n",
        "print(carrera[0:10:2])\n",
        "#Al revés\n",
        "print(carrera[-1:-12:-1])\n",
        "print(carrera[-1:-12:-2])"
      ],
      "execution_count": null,
      "outputs": [
        {
          "output_type": "stream",
          "name": "stdout",
          "text": [
            "Ingeniería\n",
            "computación\n",
            "computació\n",
            "--------------\n",
            "Ingeniería\n",
            "computación\n",
            "computación\n",
            "Igneí\n",
            "nóicatupmoc\n",
            "niaumc\n"
          ]
        }
      ]
    },
    {
      "cell_type": "markdown",
      "metadata": {
        "id": "0ZspL7Vh0h9Q"
      },
      "source": [
        "# String y sus metódos\n",
        "# Todos los tipos de dato en python son objetos (CLASES DE LA PROGRAMACIÓN OTIENTADA A OBJETOS)\n",
        "Lo cual signífica que tiene atributos y metódos\n",
        "\n",
        "## dir() y help(), son funciones para obtener ayuda del lenguaje python\n",
        "\n",
        "### dir() muestra las funciones de un tipo de dato como resumen\n",
        "### help () muestra la misma ayuda pero a detalle.\n",
        "\n",
        "Los metódos que inician con doble guión bajo son de uso privado de uso interno de la clase y no deberiamos usarlos.\n",
        "Los demás son de uso público, y esos si los podemos utilizar.\n",
        "\n",
        "## Nombre, atributos que establecen el estado actual del objeto, y el comportamiento"
      ]
    },
    {
      "cell_type": "code",
      "metadata": {
        "id": "G5ofSGbn07se"
      },
      "source": [
        "frutas = \"  limón , fresa, manzana , aguacate  \"\n",
        "nombre = \"diego\"\n",
        "print(frutas)\n",
        "\n",
        "# Son metódos de la programación orientada a objetos\n",
        "dir(frutas)\n",
        "\n",
        "print( nombre.capitalize() ) # capitalize se utiliza para poner la letra inicial en mayúscula\n",
        "print( nombre.upper() ) # upper se utiliza para poner todo el texto en mayúsculas\n",
        "dir(frutas)\n",
        "print( frutas.replace( 'a' , '4')) # replace se utiliza para sustituir letras por otras\n",
        "\n",
        "frutas = ( frutas.replace( 'e' , '3').replace( 'a' , '4').upper() ) # Se puede hacer en cadena\n",
        "print(frutas)\n",
        "\n",
        "print(\"~~~~~~~~~~~~~~~~~~~~~~~~~~~~~~~~~~~~~~~~~~~~~~~~~~~~~~~~~~~~~~~~~\")\n",
        "\n",
        "frutas = \"  limón , fresa, manzana , aguacate  \"\n",
        "\n",
        "print( frutas.strip() )  # Quita los espacios sobrantes\n",
        "print( frutas.split() )  # Separa los elementos por por los espacios que hay entre comillas('')y comas (,)\n",
        "print( frutas.split( ',' )) # Al añadir algo entre las comillas no se incluye ese elemento\n",
        "\n",
        "\n",
        "print( frutas.index( 'n' )) #Encuentra lo que buscas que esta marcado con el '()'\n",
        "help(str)\n"
      ],
      "execution_count": null,
      "outputs": []
    },
    {
      "cell_type": "markdown",
      "metadata": {
        "id": "PFvoksi28bv6"
      },
      "source": [
        "#String y carácteres de escape\n",
        "Diego\n",
        "- \\\\ ------>\"\"\n",
        "- \"\\ ------> \"\n",
        "- '\\ -------> '\n",
        "- \\n --------> salto de línea ((Tecla enter)\n",
        "- \\t --------> tabulado de espacios a la izqu.\n",
        "- \\uxxxx ---> Carácteres unicode\n",
        " de 16 bits o 2 bytes\n",
        "- \\Uxxxxxx -------> Unicode extendido"
      ]
    },
    {
      "cell_type": "code",
      "metadata": {
        "colab": {
          "base_uri": "https://localhost:8080/"
        },
        "id": "JUBfk1-r9ANv",
        "outputId": "7cde98c7-79d3-4069-ba1e-9e8510564220"
      },
      "source": [
        "print(\" \\\"Diego\\\" \")\n",
        "nombre = \" \\\"Diego\\\" \"\n",
        "print(nombre)\n",
        "\n",
        "carrera = \"Ingeniería \\n\\ten \\n\\t\\tcomputación\"\n",
        "print(carrera)\n",
        "\n",
        "\n",
        "print(\"\\u0065\")  #Se utiliza el unicode basico para estos carácteres\n",
        "print(\"\\u0444\")\n",
        "print(\"\\u0620\")\n",
        "print(\"\\U00010057\") #Se utiliza el unicode extendido\n",
        "print(\"\\U0001F60E\")\n",
        "print(\"\\U0001F9A0\")"
      ],
      "execution_count": null,
      "outputs": [
        {
          "output_type": "stream",
          "name": "stdout",
          "text": [
            " \"Diego\" \n",
            " \"Diego\" \n",
            "Ingeniería \n",
            "\ten \n",
            "\t\tcomputación\n",
            "e\n",
            "ф\n",
            "ؠ\n",
            "𐁗\n",
            "😎\n",
            "🦠\n"
          ]
        }
      ]
    },
    {
      "cell_type": "markdown",
      "metadata": {
        "id": "Opw0osczyNd7"
      },
      "source": [
        "# Función print\n",
        "\n",
        "### Se emplea apra desplegar infotmación en la salida estanda. Normalmente un monitor.\n",
        "- Formas de usar print\n",
        "- El argumento por defecto de print (end)\n",
        "- format()\n",
        "- operador f\"\"\n"
      ]
    },
    {
      "cell_type": "code",
      "metadata": {
        "colab": {
          "base_uri": "https://localhost:8080/"
        },
        "id": "AruJ84ETy-nY",
        "outputId": "b3e4ee18-0c04-41e4-9b7d-67c8c40adf6b"
      },
      "source": [
        "nombre = \"Diego\"\n",
        "edad = 18\n",
        "casado = False\n",
        "estatura = 1.67\n",
        "\"\"\"nombre: Diego\n",
        "          edad: 18\n",
        "          casado: False\n",
        "          Estatura en metros: 1.67\n",
        "  \"\"\"\n",
        "print( \"Nombre:\" + nombre + \"\\nedad:\"+ str(edad)+\"\\nEsta casado?:\"+ str(casado)+\"\\nEstatura:\"+ str(estatura))\n",
        "\n",
        "\n",
        "\n",
        "\n",
        "# 1.- Con comas -- Concatena haciendo un casting a string autom\n",
        "# Agrega un espacio \n",
        "print( nombre, edad, casado, estatura )\n",
        "\n",
        "# 2.- Con el simbolo de \"+\"\", este método tienes que poner tu mismo los espacios\n",
        "print( nombre + \" \"+str(edad) +\" \"+ str(casado) +\" \"+ str(estatura) )\n",
        "\n",
        "# 3.- Dando formato a la salida con \"format\"\n",
        "print(\"\\nCon el operador format\")\n",
        "print(\"Nombre:{3} \\n\\tEdad:{2} \\n\\tEsta casado? {1} \\n\\tEstarura en metros:{0}\". format(nombre,edad,casado,estatura)) #Con {} se cambia la posición de las variables\n",
        "\n",
        "# 4.- Con operador f \" \" \n",
        "print(\"\\nCon el operador f\\\"\\\"\")\n",
        "print(f\"Nombre:{nombre} \\n\\tEdad:{edad} \\n\\tEsta casado? {casado} \\n\\tEstarura en metros:{estatura}\") #Pone el mismo resultado solo que poniendo la variable deseada dentro de {}\n",
        "\n",
        "print(\"\\nComo usar el argumento end \")\n",
        "print(f\"\\nHola {nombre}\", end =\" \")\n",
        "print(f\", como estas?\")  #Si dejas el string vacio no hace un salto de párrafo"
      ],
      "execution_count": null,
      "outputs": [
        {
          "output_type": "stream",
          "name": "stdout",
          "text": [
            "Nombre:Diego\n",
            "edad:18\n",
            "Esta casado?:False\n",
            "Estatura:1.67\n",
            "Diego 18 False 1.67\n",
            "Diego 18 False 1.67\n",
            "\n",
            "Con el operador format\n",
            "Nombre:1.67 \n",
            "\tEdad:False \n",
            "\tEsta casado? 18 \n",
            "\tEstarura en metros:Diego\n",
            "\n",
            "Con el operador f\"\"\n",
            "Nombre:Diego \n",
            "\tEdad:18 \n",
            "\tEsta casado? False \n",
            "\tEstarura en metros:1.67\n",
            "\n",
            "Como usar el argumento end \n",
            "\n",
            "Hola Diego , como estas?\n"
          ]
        }
      ]
    },
    {
      "cell_type": "markdown",
      "metadata": {
        "id": "labwMD1M7WF-"
      },
      "source": [
        "# Con una sola por letra print escribir mi nombre\n",
        "\n",
        "DDD\n",
        "D\n"
      ]
    },
    {
      "cell_type": "markdown",
      "metadata": {
        "id": "niUMSReJ7Nsv"
      },
      "source": [
        ""
      ]
    }
  ]
}