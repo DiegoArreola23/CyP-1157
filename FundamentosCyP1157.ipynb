{
  "nbformat": 4,
  "nbformat_minor": 0,
  "metadata": {
    "colab": {
      "name": "FundamentosCyP1157.ipynb",
      "provenance": [],
      "authorship_tag": "ABX9TyO1Q3DRPnnEhxjOT1x/Lld7",
      "include_colab_link": true
    },
    "kernelspec": {
      "name": "python3",
      "display_name": "Python 3"
    },
    "language_info": {
      "name": "python"
    }
  },
  "cells": [
    {
      "cell_type": "markdown",
      "metadata": {
        "id": "view-in-github",
        "colab_type": "text"
      },
      "source": [
        "<a href=\"https://colab.research.google.com/github/DiegoArreola23/CyP-1157/blob/main/FundamentosCyP1157.ipynb\" target=\"_parent\"><img src=\"https://colab.research.google.com/assets/colab-badge.svg\" alt=\"Open In Colab\"/></a>"
      ]
    },
    {
      "cell_type": "code",
      "metadata": {
        "colab": {
          "base_uri": "https://localhost:8080/"
        },
        "id": "dtuD-cObVhQF",
        "outputId": "f96730cf-21b5-45f5-e724-d7acbbbaed70"
      },
      "source": [
        "nombre = 'Diego'  #Tipo de dato String (cadena de carácteres)\n",
        "\n",
        "print( nombre )\n",
        "\n"
      ],
      "execution_count": 1,
      "outputs": [
        {
          "output_type": "stream",
          "name": "stdout",
          "text": [
            "Diego\n"
          ]
        }
      ]
    },
    {
      "cell_type": "markdown",
      "metadata": {
        "id": "H1JcSFncXMZU"
      },
      "source": [
        "#Tipos de datos en Python\n",
        "## Tipos simples\n",
        "- str ---> String cadena de carácteres.\n",
        "- int --> Números enteros\n",
        "- float --->Números con notación de punto florante\n",
        "- complex -->Números completos\n",
        "- bool ----Boleano (True o Fals)\n",
        "- byte ---> 8 bites\n",
        "\n",
        "##Tipos de datos estructurados (Compuestos)\n",
        "- list ---> Listas\n",
        "- dict ---> Diccionarios\n",
        "- set y frozenset ---> Conjuntos\n",
        "- tuple --> Listas no mutables"
      ]
    },
    {
      "cell_type": "code",
      "metadata": {
        "colab": {
          "base_uri": "https://localhost:8080/"
        },
        "id": "kTRitfhcaQel",
        "outputId": "3bc82803-d27b-47a5-e511-42b254f50417"
      },
      "source": [
        "import sys\n",
        "edad = 18\n",
        "print (\"Tu edad es\", edad, \"años\")  # al final de una línea de código\n",
        "# este es un comentario de línea simple\n",
        "\n",
        "\"\"\"\n",
        "Comentario de múltiple línea\n",
        "En lenguaje c++ y Java el comentario de múltiple línea es con: /*  ...........*/\n",
        "\n",
        "En lenguaje c++ y Java el comentario de una sola línea es con: //\n",
        "\n",
        "Aquí puedes explicar en prosa el segmento de un código para futuras referencias\"\"\"\n",
        "\n",
        "# Tipos de datos númericos   int y float\n",
        "\n",
        "print(sys.getsizeof(edad))\n",
        "# El tipo de dato INT utiliza diferente cantidad de bits según el lenguaje de programación por ejemplo en c utiliza 16 bits\n",
        "\n",
        "edad = edad + 1\n",
        "print (edad)\n",
        "\n",
        "estatura = 1.56\n",
        "print (\"Tu estatura es\",estatura)\n",
        "print (sys.getsizeof(estatura))\n",
        "\n",
        "estatura = estatura + 0.1\n",
        "print(estatura)\n",
        "print( round(estatura,2))\n",
        "\n",
        "edad = 18\n",
        "\n",
        "edad += 1            \n",
        "print(edad)\n",
        "\n",
        "edad -= 1    #edad = edad - 1\n",
        "\n",
        "print(edad)\n",
        "\n",
        "edad += 1\n",
        "edad /= 2   #edad = edad / 2\n",
        "print(\"La mitad de tu edad es\",edad)\n",
        "\n",
        "\n",
        "edad = 21 // 2\n",
        "# volver a calcular la mitad de la edad pero solo dejar la parte entera\n",
        "\n",
        "print(\"La mitad de tu edad es\",edad)\n",
        "\n",
        "# La mayoria de los leng. no permite operaciones entre diferantes tipos de datos, en python\n",
        "\n",
        "número = edad / 2.0\n",
        "print(número)\n",
        "\n",
        "\n",
        "número *= 3\n",
        "print(número)\n",
        "\n",
        "\n",
        "número = 5.0\n",
        "número = número ** 2\n",
        "print(número)\n",
        "\n",
        "# Operador módulo\n",
        "\n"
      ],
      "execution_count": 54,
      "outputs": [
        {
          "output_type": "stream",
          "name": "stdout",
          "text": [
            "Tu edad es 18 años\n",
            "28\n",
            "19\n",
            "Tu estatura es 1.56\n",
            "24\n",
            "1.6600000000000001\n",
            "1.66\n",
            "19\n",
            "18\n",
            "La mitad de tu edad es 9.5\n",
            "La mitad de tu edad es 10\n",
            "5.0\n",
            "15.0\n",
            "25.0\n",
            "10.5\n"
          ]
        }
      ]
    },
    {
      "cell_type": "markdown",
      "metadata": {
        "id": "EFHGVd1ijVZB"
      },
      "source": [
        "Tarea hacer un resúmen de mínimo una cuartilla de los origenes del lenguaje python.\n",
        "\n",
        "- ¿Porqué de su creación?.\n",
        "- Características principales. \n",
        "- Diferencias con otros leng.\n",
        "\n",
        "Forma de entrega; A mano en un cuaderno, sacarle foto (Scanner) y subir la foto"
      ]
    },
    {
      "cell_type": "code",
      "metadata": {
        "colab": {
          "base_uri": "https://localhost:8080/"
        },
        "id": "5iKx-6YLluTL",
        "outputId": "0e7fe2ac-aa26-4900-fb46-153c8699ddf3"
      },
      "source": [
        "número = 21\n",
        "print(número / 2)\n",
        "print(número // 2)\n",
        "# El operador módulo da como resultado el residuo de una división entera\n",
        "\n",
        "print(número % 2)\n",
        "\n",
        "número = 24\n",
        "print(\"Residuo de 24 / 5 es\", número % 5)\n",
        "\n",
        "## Operadores relacionales (Lógicos)\n",
        "print( número % 2 == 0)\n",
        "\n",
        "print(\"24 es diferente de 23?\", número != 23)\n",
        "print( \"24 es menor que 23?\", número < 23)\n",
        "print( \"24 es mayor o igual que 23?\", número >= 23)\n",
        "print( \"24 es menor que o igual que 24?\", número <= 24)\n",
        "\n",
        "print(\"El tipo de dato de la variable var número es:\",type (número))\n",
        "print(\"El tipo de dato de la variable var número es:\",type (número/2.0))"
      ],
      "execution_count": 81,
      "outputs": [
        {
          "output_type": "stream",
          "name": "stdout",
          "text": [
            "10.5\n",
            "10\n",
            "1\n",
            "Residuo de 24 / 5 es 4\n",
            "True\n",
            "24 es diferente de 23? True\n",
            "24 es menor que 23? False\n",
            "24 es mayor o igual que 23? True\n",
            "24 es menor que o igual que 24? True\n",
            "El tipo de dato de la variable var número es: <class 'int'>\n",
            "El tipo de dato de la variable var número es: <class 'float'>\n"
          ]
        }
      ]
    },
    {
      "cell_type": "markdown",
      "metadata": {
        "id": "AzbrnEsHpj6h"
      },
      "source": [
        "# Tipo de dato string (str) en python\n",
        "\n",
        "- Se maneja como un arreglo (Tipo de dato compuesto) \n",
        "- Se puede acceder a los elementos del str por medio del índice del carácter\n",
        "- Es mutable (Se puede utilizar para variables)\n",
        "- Tiene metódos útiles (Potentes)\n",
        "- slicing\n"
      ]
    },
    {
      "cell_type": "code",
      "metadata": {
        "colab": {
          "base_uri": "https://localhost:8080/"
        },
        "id": "z5UmSjTgqS2_",
        "outputId": "1c992863-483c-40d4-9992-f12733051fb6"
      },
      "source": [
        "nombre = 'Diego'\n",
        "carrera = \"Ingeniería en computación\"\n",
        "frase = \"\"\" El conocimiento me persigue....... pero  yo soy más rápido\"\"\"\n",
        "print(nombre)\n",
        "print(carrera)\n",
        "print(frase)\n",
        "\n",
        "# La función type de python te devuelve al  tipo de dato de una variable\n",
        "print(type(nombre))\n",
        "paterno = str (\"Gomez\")\n",
        "print(paterno)"
      ],
      "execution_count": 84,
      "outputs": [
        {
          "output_type": "stream",
          "name": "stdout",
          "text": [
            "Diego\n",
            "Ingeniería en computación\n",
            " El conocimiento me persigue....... pero  yo soy más rápido\n",
            "<class 'str'>\n",
            "Gomez\n"
          ]
        }
      ]
    }
  ]
}