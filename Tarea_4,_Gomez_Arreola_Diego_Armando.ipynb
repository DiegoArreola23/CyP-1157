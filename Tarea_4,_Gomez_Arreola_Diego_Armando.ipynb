{
  "nbformat": 4,
  "nbformat_minor": 0,
  "metadata": {
    "colab": {
      "name": "Tarea 4, Gomez Arreola Diego Armando",
      "provenance": [],
      "authorship_tag": "ABX9TyPFL8EYBJQBEeeUB0H+ty27",
      "include_colab_link": true
    },
    "kernelspec": {
      "name": "python3",
      "display_name": "Python 3"
    },
    "language_info": {
      "name": "python"
    }
  },
  "cells": [
    {
      "cell_type": "markdown",
      "metadata": {
        "id": "view-in-github",
        "colab_type": "text"
      },
      "source": [
        "<a href=\"https://colab.research.google.com/github/DiegoArreola23/CyP-1157/blob/main/Tarea_4%2C_Gomez_Arreola_Diego_Armando.ipynb\" target=\"_parent\"><img src=\"https://colab.research.google.com/assets/colab-badge.svg\" alt=\"Open In Colab\"/></a>"
      ]
    },
    {
      "cell_type": "markdown",
      "metadata": {
        "id": "j_rozLcX4QNF"
      },
      "source": [
        "##Escribir tu primer nombre\n"
      ]
    },
    {
      "cell_type": "code",
      "metadata": {
        "colab": {
          "base_uri": "https://localhost:8080/"
        },
        "id": "DxDIUBlJwZyE",
        "outputId": "375751db-03c0-4dc1-99f1-bc0a4c6b2a82"
      },
      "source": [
        "print(\"DDDDD\", \"  \", \"IIIII\",\"  \",\"EEEEEE\", \"  \",\"GGGGGGG\",\"  \",\"OOOOO\",\"\\nD    D\",\"  \",\" I  \",\"   E\",\"  \",\"     GG\",\"  \",\"    OO   OO\", \"\\nD    D\",\"  \",\" I  \",\"   EEEE\",\"  \",\"  GG GGGG\",\" \",\"OO   OO\", \"\\nD    D\",\"  \",\" I  \",\"  \",\"E\",\"  \",\"     GG   GG\",\" \",\"OO   OO\" , \"\\nDDDDD\",\"  \",\"IIIII\",\"   EEEEEE\",\"  \",\"GGGGGGG\",\"  \",\"OOOOO\" )"
      ],
      "execution_count": 35,
      "outputs": [
        {
          "output_type": "stream",
          "name": "stdout",
          "text": [
            "DDDDD    IIIII    EEEEEE    GGGGGGG    OOOOO \n",
            "D    D     I      E         GG        OO   OO \n",
            "D    D     I      EEEE      GG GGGG   OO   OO \n",
            "D    D     I      E         GG   GG   OO   OO \n",
            "DDDDD    IIIII    EEEEEE    GGGGGGG    OOOOO\n"
          ]
        }
      ]
    }
  ]
}