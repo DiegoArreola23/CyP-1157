{
  "nbformat": 4,
  "nbformat_minor": 0,
  "metadata": {
    "colab": {
      "name": "Tarea_5_Gomez_Arreola_Diego_Armando.ipynb",
      "provenance": [],
      "authorship_tag": "ABX9TyM0oze5Udx/nbaTCymHkZOe",
      "include_colab_link": true
    },
    "kernelspec": {
      "name": "python3",
      "display_name": "Python 3"
    },
    "language_info": {
      "name": "python"
    }
  },
  "cells": [
    {
      "cell_type": "markdown",
      "metadata": {
        "id": "view-in-github",
        "colab_type": "text"
      },
      "source": [
        "<a href=\"https://colab.research.google.com/github/DiegoArreola23/CyP-1157/blob/main/Tarea_5_Gomez_Arreola_Diego_Armando.ipynb\" target=\"_parent\"><img src=\"https://colab.research.google.com/assets/colab-badge.svg\" alt=\"Open In Colab\"/></a>"
      ]
    },
    {
      "cell_type": "markdown",
      "metadata": {
        "id": "TY535P1RWuNl"
      },
      "source": [
        "#EJERCICIO 1\n",
        " Hacer un programa que\n",
        "pida dos números enteros y que imprima en pantalla lo siguiente:\n",
        "\n",
        "- ¿Cuál de ellos es el número mayor?\n",
        "- ¿Cuál de ellos es el número menor?"
      ]
    },
    {
      "cell_type": "code",
      "metadata": {
        "colab": {
          "base_uri": "https://localhost:8080/"
        },
        "id": "m0oIlvvQLovY",
        "outputId": "a9f2b809-6f86-46eb-965d-881e764083f0"
      },
      "source": [
        "NUM = int(input(\"Dame un número entero: \"))\n",
        "NUM2 = int(input(\"Dame otro número entero: \"))\n",
        "\n",
        "if NUM < NUM2:\n",
        "    print(\"¿Cúal es el menor? = \", NUM),\n",
        "    print(\"¿Cúal es el mayor? = \", NUM2)\n",
        "\n",
        "elif  NUM > NUM2: \n",
        "    print(\"¿Cúal es el menor? = \", NUM2),\n",
        "    print(\"¿Cúal es el mayor? = \", NUM)\n",
        "\n",
        "elif NUM == NUM2:\n",
        "    print(\"Ambos números son iguales\" )    \n",
        "\n",
        "print(\"FIN DEL PROGRAMA\")"
      ],
      "execution_count": 29,
      "outputs": [
        {
          "output_type": "stream",
          "name": "stdout",
          "text": [
            "Dame un número entero: 12\n",
            "Dame otro número entero: 9\n",
            "¿Cúal es el menor? =  9\n",
            "¿Cúal es el mayor? =  12\n",
            "FIN DEL PROGRAMA\n"
          ]
        }
      ]
    },
    {
      "cell_type": "markdown",
      "metadata": {
        "id": "DLe_zzQ0W6uT"
      },
      "source": [
        "#EJERCICIO 2\n",
        "Hacer un programa que solicite 3 números enteros diferentes entre sí y que imprima cuál de los 3 es el mayor"
      ]
    },
    {
      "cell_type": "code",
      "metadata": {
        "colab": {
          "base_uri": "https://localhost:8080/"
        },
        "id": "vuR2VDmBQvB6",
        "outputId": "d9558f58-20b5-4e79-dec4-2dbd5ceec338"
      },
      "source": [
        "NUM = int(input(\"Dame un número entero: \"))\n",
        "NUM2 = int(input(\"Dame otro número entero: \"))\n",
        "NUM3 = int(input(\"Dame otro número entero: \"))\n",
        "\n",
        "if NUM > NUM2 and NUM > NUM3:\n",
        "    print(\"El número mayor es: \",NUM)\n",
        "else:\n",
        "        if NUM2 > NUM and NUM2 > NUM3:\n",
        "            print(\"El número mayor es: \",NUM2)\n",
        "        else:\n",
        "                if NUM3 > NUM and NUM3 > NUM2:\n",
        "                   print(\"El número mayor es: \",NUM3)\n",
        "\n",
        "print(\"FIN DEL PROGRAMA\")"
      ],
      "execution_count": 30,
      "outputs": [
        {
          "output_type": "stream",
          "name": "stdout",
          "text": [
            "Dame un número entero: 458\n",
            "Dame otro número entero: 7458\n",
            "Dame otro número entero: 546\n",
            "El número mayor es:  7458\n",
            "FIN DEL PROGRAMA\n"
          ]
        }
      ]
    },
    {
      "cell_type": "markdown",
      "metadata": {
        "id": "N-sLmGG8XTKl"
      },
      "source": [
        "#EJERCICIO 3\n",
        "Hacer un programa que solicite 3 números enteros diferentes entre sí y que imprima cuál de los 3 es el menor"
      ]
    },
    {
      "cell_type": "code",
      "metadata": {
        "colab": {
          "base_uri": "https://localhost:8080/"
        },
        "id": "3-jHsVYbOQ04",
        "outputId": "7cb4bcbb-e48e-4b66-f7f2-ceb9ecf982ae"
      },
      "source": [
        "NUM = int(input(\"Dame un número entero: \"))\n",
        "NUM2 = int(input(\"Dame otro número entero: \"))\n",
        "NUM3 = int(input(\"Dame otro número entero: \"))\n",
        "\n",
        "if NUM < NUM2 and NUM < NUM3:\n",
        "      print(\"El número menor es: \",NUM)\n",
        "else:\n",
        "        if NUM2 < NUM and NUM2 < NUM3:\n",
        "            print(\"El número menor es: \",NUM2)\n",
        "        else:\n",
        "                if NUM3 < NUM and NUM3 < NUM2:\n",
        "                   print(\"El número menor es: \",NUM3)\n",
        "\n",
        "print(\"FIN DEL PROGRAMA\")"
      ],
      "execution_count": 31,
      "outputs": [
        {
          "output_type": "stream",
          "name": "stdout",
          "text": [
            "Dame un número entero: 1254\n",
            "Dame otro número entero: 8563\n",
            "Dame otro número entero: 457\n",
            "El número menor es:  457\n",
            "FIN DEL PROGRAMA\n"
          ]
        }
      ]
    },
    {
      "cell_type": "markdown",
      "metadata": {
        "id": "mdt9HkhrXcoU"
      },
      "source": [
        "#EJERCICIO 4\n",
        "Hacer un programa que solicite 4 números enteros diferentes entre sí y que imprima a la salida cuál de ellos es el menor y cuál de ellos es el mayor"
      ]
    },
    {
      "cell_type": "code",
      "metadata": {
        "colab": {
          "base_uri": "https://localhost:8080/"
        },
        "id": "WbbWR7UYRSlH",
        "outputId": "3981b951-2811-45ca-9b62-8caacbff696d"
      },
      "source": [
        "NUM = int(input(\"Dame un número entero: \"))\n",
        "NUM2 = int(input(\"Dame otro número entero: \"))\n",
        "NUM3 = int(input(\"Dame otro número entero: \"))\n",
        "NUM4 = int(input(\"Dame otro número entero: \"))\n",
        "\n",
        "if NUM > NUM2 and NUM > NUM3 and NUM > NUM4:\n",
        "    print(\"El número mayor es: \",NUM)\n",
        "else:\n",
        "        if NUM2 > NUM and NUM2 > NUM3 and NUM2 > NUM4:\n",
        "            print(\"El número mayor es: \",NUM2)\n",
        "        else:\n",
        "                if NUM3 > NUM and NUM3 > NUM2 and NUM3 > NUM4:\n",
        "                   print(\"El número mayor es: \",NUM3)\n",
        "                else:\n",
        "                       if NUM4 > NUM and NUM4 > NUM2 and NUM4 > NUM3:\n",
        "                          print(\"El número mayor es: \",NUM4)\n",
        "                    \n",
        "\n",
        "if NUM < NUM2 and NUM < NUM3 and NUM < NUM4:\n",
        "      print(\"El número menor es: \",NUM)\n",
        "else:\n",
        "        if NUM2 < NUM and NUM2 < NUM3 and NUM2 < NUM4:\n",
        "            print(\"El número menor es: \",NUM2)\n",
        "        else:\n",
        "                if NUM3 < NUM and NUM3 < NUM2 and NUM3 < NUM4:\n",
        "                   print(\"El número menor es: \",NUM3)\n",
        "                else:\n",
        "                       if NUM4 < NUM and NUM4 < NUM2 and NUM4 < NUM3:\n",
        "                          print(\"El número menor es: \",NUM4)\n",
        "    \n",
        "print(\"FIN DEL PROGRAMA\")"
      ],
      "execution_count": 33,
      "outputs": [
        {
          "output_type": "stream",
          "name": "stdout",
          "text": [
            "Dame un número entero: 12545\n",
            "Dame otro número entero: 25472\n",
            "Dame otro número entero: 3542\n",
            "Dame otro número entero: 12548\n",
            "El número mayor es:  25472\n",
            "El número menor es:  3542\n",
            "FIN DEL PROGRAMA\n"
          ]
        }
      ]
    }
  ]
}