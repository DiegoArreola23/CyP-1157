{
  "nbformat": 4,
  "nbformat_minor": 0,
  "metadata": {
    "colab": {
      "name": "Fundamentos3_Cyp_1157.ipynb",
      "provenance": [],
      "authorship_tag": "ABX9TyMnq8xAsuiIWJNxELSoFAZC",
      "include_colab_link": true
    },
    "kernelspec": {
      "name": "python3",
      "display_name": "Python 3"
    },
    "language_info": {
      "name": "python"
    }
  },
  "cells": [
    {
      "cell_type": "markdown",
      "metadata": {
        "id": "view-in-github",
        "colab_type": "text"
      },
      "source": [
        "<a href=\"https://colab.research.google.com/github/DiegoArreola23/CyP-1157/blob/main/Fundamentos3_Cyp_1157.ipynb\" target=\"_parent\"><img src=\"https://colab.research.google.com/assets/colab-badge.svg\" alt=\"Open In Colab\"/></a>"
      ]
    },
    {
      "cell_type": "markdown",
      "metadata": {
        "id": "Oqe8_zjPGRAa"
      },
      "source": [
        "#Repetición:\n",
        "este tipo de estructura nos permite automatizar la ejecución repetitiva de código\n",
        "###FOR en python\n",
        "```````\n",
        "for j in range(10):\n",
        " printf(\"Hola { j }\")\n",
        " ````````\n",
        "\n",
        "###FOR con leng C y/o Java\n",
        "````\n",
        "for( int j=0 ; j<10 ; j=j+1:{\n",
        "       printf(\"Hola %i \\n\" j)\n",
        "`````````\n"
      ]
    },
    {
      "cell_type": "code",
      "metadata": {
        "colab": {
          "base_uri": "https://localhost:8080/"
        },
        "id": "RJq6_XC0FX7N",
        "outputId": "17437751-c116-4c5a-d0b9-14b2395878b4"
      },
      "source": [
        "#función range()\n",
        "#range(<INICIO>,<STOP>,<INCREMENTO>)\n",
        "x = range(0,10,2)\n",
        "print(x)\n",
        "\n",
        "\n",
        "for j in range(10): #range(10)-----> 0, 1, 2, 3, 4, 5, 6, 7, 8, 9\n",
        "   print(f\"Hola {j}\")\n",
        "print(\"-,-,--,-,-,-,--,-,-,-,-\")\n",
        "for j in range(0,10,2):\n",
        "    print(f\"Hola {j}\")\n",
        "\n",
        "\n",
        "\n",
        "frutas = (\"uva\",\"aguacate\",\"pera\",\"manzana\",\"sandia\")\n",
        "\n",
        "print(frutas[0])\n",
        "print(frutas[1])\n",
        "print(frutas[2])\n",
        "print(frutas[3])\n",
        "print(frutas[4])\n",
        "print(\"------Frutas------\")\n",
        "for index in range(5):\n",
        "    print(frutas[index])"
      ],
      "execution_count": 8,
      "outputs": [
        {
          "output_type": "stream",
          "name": "stdout",
          "text": [
            "range(0, 10, 2)\n",
            "Hola 0\n",
            "Hola 1\n",
            "Hola 2\n",
            "Hola 3\n",
            "Hola 4\n",
            "Hola 5\n",
            "Hola 6\n",
            "Hola 7\n",
            "Hola 8\n",
            "Hola 9\n",
            "-,-,--,-,-,-,--,-,-,-,-\n",
            "Hola 0\n",
            "Hola 2\n",
            "Hola 4\n",
            "Hola 6\n",
            "Hola 8\n",
            "uva\n",
            "aguacate\n",
            "pera\n",
            "manzana\n",
            "sandia\n",
            "------Frutas------\n",
            "uva\n",
            "aguacate\n",
            "pera\n",
            "manzana\n",
            "sandia\n"
          ]
        }
      ]
    }
  ]
}