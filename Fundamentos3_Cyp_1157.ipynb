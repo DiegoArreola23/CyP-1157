{
  "nbformat": 4,
  "nbformat_minor": 0,
  "metadata": {
    "colab": {
      "name": "Fundamentos3_Cyp_1157.ipynb",
      "provenance": [],
      "collapsed_sections": [],
      "authorship_tag": "ABX9TyOlQcfBSMhto1aOoArhbnB3",
      "include_colab_link": true
    },
    "kernelspec": {
      "name": "python3",
      "display_name": "Python 3"
    },
    "language_info": {
      "name": "python"
    }
  },
  "cells": [
    {
      "cell_type": "markdown",
      "metadata": {
        "id": "view-in-github",
        "colab_type": "text"
      },
      "source": [
        "<a href=\"https://colab.research.google.com/github/DiegoArreola23/CyP-1157/blob/main/Fundamentos3_Cyp_1157.ipynb\" target=\"_parent\"><img src=\"https://colab.research.google.com/assets/colab-badge.svg\" alt=\"Open In Colab\"/></a>"
      ]
    },
    {
      "cell_type": "markdown",
      "metadata": {
        "id": "PVw2UMJBPY-J"
      },
      "source": [
        "#Fecha: 30/11/2021"
      ]
    },
    {
      "cell_type": "markdown",
      "metadata": {
        "id": "Oqe8_zjPGRAa"
      },
      "source": [
        "#Repetición:\n",
        "este tipo de estructura nos permite automatizar la ejecución repetitiva de código que mientras ciertas condiciones se cumplan, tenemos 3 variantes de esta estructura de programación:\n",
        "- Desde...hasta(for)\n",
        "- haz mientras (estructura while)\n",
        "- haz y luego valida mientras (estructura do-while)\n",
        "###FOR en python\n",
        "```````\n",
        "for j in range(10):\n",
        " printf(\"Hola { j }\")\n",
        " ````````\n",
        "\n",
        "###FOR con leng C y/o Java\n",
        "````\n",
        "for( int j=0 ; j<10 ; j=j+1:{\n",
        "       printf(\"Hola %i \\n\" j)\n",
        "`````````\n"
      ]
    },
    {
      "cell_type": "code",
      "metadata": {
        "colab": {
          "base_uri": "https://localhost:8080/"
        },
        "id": "RJq6_XC0FX7N",
        "outputId": "17437751-c116-4c5a-d0b9-14b2395878b4"
      },
      "source": [
        "#función range()\n",
        "#range(<INICIO>,<STOP>,<INCREMENTO>)\n",
        "x = range(0,10,2)\n",
        "print(x)\n",
        "\n",
        "\n",
        "for j in range(10): #range(10)-----> 0, 1, 2, 3, 4, 5, 6, 7, 8, 9\n",
        "   print(f\"Hola {j}\")\n",
        "print(\"-,-,--,-,-,-,--,-,-,-,-\")\n",
        "for j in range(0,10,2):\n",
        "    print(f\"Hola {j}\")\n",
        "\n",
        "\n",
        "\n",
        "frutas = (\"uva\",\"aguacate\",\"pera\",\"manzana\",\"sandia\")\n",
        "\n",
        "print(frutas[0])\n",
        "print(frutas[1])\n",
        "print(frutas[2])\n",
        "print(frutas[3])\n",
        "print(frutas[4])\n",
        "print(\"------Frutas------\")\n",
        "for index in range(5):\n",
        "    print(frutas[index])"
      ],
      "execution_count": null,
      "outputs": [
        {
          "output_type": "stream",
          "name": "stdout",
          "text": [
            "range(0, 10, 2)\n",
            "Hola 0\n",
            "Hola 1\n",
            "Hola 2\n",
            "Hola 3\n",
            "Hola 4\n",
            "Hola 5\n",
            "Hola 6\n",
            "Hola 7\n",
            "Hola 8\n",
            "Hola 9\n",
            "-,-,--,-,-,-,--,-,-,-,-\n",
            "Hola 0\n",
            "Hola 2\n",
            "Hola 4\n",
            "Hola 6\n",
            "Hola 8\n",
            "uva\n",
            "aguacate\n",
            "pera\n",
            "manzana\n",
            "sandia\n",
            "------Frutas------\n",
            "uva\n",
            "aguacate\n",
            "pera\n",
            "manzana\n",
            "sandia\n"
          ]
        }
      ]
    },
    {
      "cell_type": "code",
      "metadata": {
        "id": "Ki5H39SJMDqX"
      },
      "source": [
        "for x in range(1,20,1):\n",
        "    print(x)\n",
        "print(\"FIN DEL PROGRAMA\")\n",
        "for x in range(19,0,-1):\n",
        "    print(x)\n",
        "print(\"FIN DEL PROGRAMA\")"
      ],
      "execution_count": null,
      "outputs": []
    },
    {
      "cell_type": "code",
      "metadata": {
        "colab": {
          "base_uri": "https://localhost:8080/"
        },
        "id": "fhIEnRi0NtNO",
        "outputId": "37a7861d-3ffb-4299-ea32-5089c5f08750"
      },
      "source": [
        "#Ejemplo 3.3\n",
        "CUECER = 0\n",
        "NUM = 0\n",
        "N = int(input(\"Introduce un valor númerico mayor que uno: \"))\n",
        "for I in range( 1 , N+1 , 1):\n",
        "    N = int(input(\"Introduce un valor númerico mayor que uno: \"))\n",
        "    if N == 0:\n",
        "      CUECER += 1\n",
        "print(\"CUECER = \",CUECER)"
      ],
      "execution_count": null,
      "outputs": [
        {
          "output_type": "stream",
          "name": "stdout",
          "text": [
            "Introduce un valor númerico mayor que uno: 4\n",
            "Introduce un valor númerico mayor que uno: 0\n",
            "Introduce un valor númerico mayor que uno: 0\n",
            "Introduce un valor númerico mayor que uno: 2\n",
            "Introduce un valor númerico mayor que uno: 2\n",
            "CUECER =  2\n"
          ]
        }
      ]
    },
    {
      "cell_type": "code",
      "metadata": {
        "colab": {
          "base_uri": "https://localhost:8080/"
        },
        "id": "V3N2XWv5Q4ow",
        "outputId": "fc1dc3a1-cff7-4553-e443-6b535700bad2"
      },
      "source": [
        "\n",
        "for i in range(1 , 11, 1):\n",
        "    print(f\"7 x {i} =\", 7*i)"
      ],
      "execution_count": null,
      "outputs": [
        {
          "output_type": "stream",
          "name": "stdout",
          "text": [
            "7 x 1 = 7\n",
            "7 x 2 = 14\n",
            "7 x 3 = 21\n",
            "7 x 4 = 28\n",
            "7 x 5 = 35\n",
            "7 x 6 = 42\n",
            "7 x 7 = 49\n",
            "7 x 8 = 56\n",
            "7 x 9 = 63\n",
            "7 x 10 = 70\n"
          ]
        }
      ]
    },
    {
      "cell_type": "markdown",
      "metadata": {
        "id": "YQGqOCOGR78S"
      },
      "source": [
        "¿Dame un número entre 1 y 5?: 2\n",
        "¿Dame un número entre 2 y 10?: 6"
      ]
    },
    {
      "cell_type": "code",
      "metadata": {
        "colab": {
          "base_uri": "https://localhost:8080/"
        },
        "id": "sDhk9exuSWSg",
        "outputId": "64fb4dba-2eff-4552-ff93-81802f394beb"
      },
      "source": [
        "N1 = int(input(\"Dame un número entre 1 y 5: \"))\n",
        "if N1 > 0 and N1 <= 5:\n",
        "    N2 = int(input(f\"Dame un valor entre {N1} y 10: \"))\n",
        "    if N2 >= N1 and N2 <= 10:\n",
        "        for i in range(N1,N2+1,1):\n",
        "            for j in range(1,11):\n",
        "                print(f\"{i} x {j} =\",i*j)\n",
        "            print(\"------------------\")\n",
        "else:\n",
        "    print(\"Valor fueran entre 1 y 5\")\n",
        "print(\"FIN DEL PROGRAMA\")\n"
      ],
      "execution_count": null,
      "outputs": [
        {
          "output_type": "stream",
          "name": "stdout",
          "text": [
            "Dame un número entre 1 y 5: 4\n",
            "Dame un valor entre 4 y 10: 6\n",
            "4 x 1 = 4\n",
            "4 x 2 = 8\n",
            "4 x 3 = 12\n",
            "4 x 4 = 16\n",
            "4 x 5 = 20\n",
            "4 x 6 = 24\n",
            "4 x 7 = 28\n",
            "4 x 8 = 32\n",
            "4 x 9 = 36\n",
            "4 x 10 = 40\n",
            "------------------\n",
            "5 x 1 = 5\n",
            "5 x 2 = 10\n",
            "5 x 3 = 15\n",
            "5 x 4 = 20\n",
            "5 x 5 = 25\n",
            "5 x 6 = 30\n",
            "5 x 7 = 35\n",
            "5 x 8 = 40\n",
            "5 x 9 = 45\n",
            "5 x 10 = 50\n",
            "------------------\n",
            "6 x 1 = 6\n",
            "6 x 2 = 12\n",
            "6 x 3 = 18\n",
            "6 x 4 = 24\n",
            "6 x 5 = 30\n",
            "6 x 6 = 36\n",
            "6 x 7 = 42\n",
            "6 x 8 = 48\n",
            "6 x 9 = 54\n",
            "6 x 10 = 60\n",
            "------------------\n"
          ]
        }
      ]
    },
    {
      "cell_type": "code",
      "metadata": {
        "colab": {
          "base_uri": "https://localhost:8080/"
        },
        "id": "9BPDwD08UONZ",
        "outputId": "85d27445-dcec-48c3-c0e3-97f69292ead3"
      },
      "source": [
        " #Generadores de listas\n",
        " numeros = [0,0,0,0,0]\n",
        " print(numeros)\n",
        " numeros = [ 0 for x in range(5)]\n",
        " print(numeros)\n",
        "#Empleando la variable de contro x en el valor inicial\n",
        "numeros = [ x for x in range(5)]\n",
        "print(numeros)\n",
        "numeros = [ x for x in range(10 , 101 , 10)]\n",
        "print(numeros)"
      ],
      "execution_count": null,
      "outputs": [
        {
          "output_type": "stream",
          "name": "stdout",
          "text": [
            "[0, 0, 0, 0, 0]\n",
            "[0, 0, 0, 0, 0]\n",
            "[0, 1, 2, 3, 4]\n",
            "[10, 20, 30, 40, 50, 60, 70, 80, 90, 100]\n"
          ]
        }
      ]
    },
    {
      "cell_type": "code",
      "metadata": {
        "colab": {
          "base_uri": "https://localhost:8080/"
        },
        "id": "U4WJuUQtYWj9",
        "outputId": "cba4260d-b3a4-4c08-a519-1a069f1f1602"
      },
      "source": [
        "#Calcular el promedio de edades\n",
        "edades = [(x+1)*10 for x in range(5)]\n",
        "        \n",
        "print(edades)\n"
      ],
      "execution_count": null,
      "outputs": [
        {
          "output_type": "stream",
          "name": "stdout",
          "text": [
            "[10, 20, 30, 40, 50]\n"
          ]
        }
      ]
    },
    {
      "cell_type": "code",
      "metadata": {
        "colab": {
          "base_uri": "https://localhost:8080/"
        },
        "id": "bpsPUSoTZGEJ",
        "outputId": "079eea4d-1032-4d28-c084-01cea364883d"
      },
      "source": [
        "edades = [0 for x in range(5)]\n",
        "SUMA = 0\n",
        "for x in range(5):\n",
        "    edades[x]= int(input(\"Dame una edad:\"))\n",
        "    SUMA = SUMA+edades[x]\n",
        "print(edades)\n",
        "print(\"Promedio =\", SUMA/5)"
      ],
      "execution_count": null,
      "outputs": [
        {
          "output_type": "stream",
          "name": "stdout",
          "text": [
            "Dame una edad:7\n",
            "Dame una edad:8\n",
            "Dame una edad:5\n",
            "Dame una edad:7\n",
            "Dame una edad:5\n",
            "[7, 8, 5, 7, 5]\n",
            "Promedio = 6.4\n"
          ]
        }
      ]
    },
    {
      "cell_type": "code",
      "metadata": {
        "colab": {
          "base_uri": "https://localhost:8080/"
        },
        "id": "JW6IBVXQcZR5",
        "outputId": "6603405c-2cc2-4752-a61e-2d715edb7c43"
      },
      "source": [
        "import random\n",
        "print(random.random())\n",
        "val = round(random.uniform(5,11),2)\n",
        "print(val)\n",
        "\n",
        "valores = [round(random.uniform(5,11),2 )for x in range(20)]\n",
        "print(valores)"
      ],
      "execution_count": null,
      "outputs": [
        {
          "output_type": "stream",
          "name": "stdout",
          "text": [
            "0.9160396436592056\n",
            "5.36\n",
            "[5.01, 10.26, 9.47, 9.99, 6.84, 8.88, 8.69, 5.54, 9.32, 9.52, 5.96, 8.13, 10.35, 8.81, 6.59, 5.17, 8.25, 5.67, 8.67, 10.87]\n"
          ]
        }
      ]
    },
    {
      "cell_type": "markdown",
      "metadata": {
        "id": "Fqmgx6R35_q1"
      },
      "source": [
        "#Estructura de control de repetición Haz-Mientras \n",
        "Una estructura de control Haz-mientras nos permite ejecutar repetidamente mientras una condición se siga cumpliendo\n",
        "##Síntaxix\n",
        "```````\n",
        "while <Condición>\n",
        "    <Bloque de sentencia a ejecutar>\n",
        "<Siguiente sentencia posterior a while>\n",
        "```````\n",
        "La diferencia principal es comparación con la estructura for es que con WHILE no conoces el número de ciclos a ejecutar"
      ]
    },
    {
      "cell_type": "code",
      "metadata": {
        "colab": {
          "base_uri": "https://localhost:8080/"
        },
        "id": "T_-A28kg9-ML",
        "outputId": "08203d7c-62e8-4c71-97cc-2b270cd25484"
      },
      "source": [
        "valor = int(input(\"Dame un número entero: \"))\n",
        "while valor != 0:\n",
        "    print(valor)\n",
        "    valor = int(input(\"Dame un número entero: \"))\n",
        "\n",
        "print(\"FIN DEL PROGRAMA\")"
      ],
      "execution_count": null,
      "outputs": [
        {
          "output_type": "stream",
          "name": "stdout",
          "text": [
            "Dame un número entero: 6\n",
            "6\n",
            "Dame un número entero: 5\n",
            "5\n",
            "Dame un número entero: 2\n",
            "2\n",
            "Dame un número entero: 3\n",
            "3\n",
            "Dame un número entero: 1\n",
            "1\n",
            "Dame un número entero: 5\n",
            "5\n",
            "Dame un número entero: 6\n",
            "6\n",
            "Dame un número entero: 9\n",
            "9\n",
            "Dame un número entero: 0\n",
            "FIN DEL PREGRAMA\n"
          ]
        }
      ]
    },
    {
      "cell_type": "code",
      "metadata": {
        "id": "cFnVark05xjf"
      },
      "source": [
        "valor = int(input(\"Dame un número entero: \"))\n",
        "while valor != 0:\n",
        "    print(valor)\n",
        "    print(\"Otras cosas\")\n",
        "print(\"FIN DEL PROGRAMA\")"
      ],
      "execution_count": null,
      "outputs": []
    },
    {
      "cell_type": "code",
      "metadata": {
        "id": "6hetCWkM_1Hj"
      },
      "source": [
        "comprobar = True\n",
        "\n",
        "while comprobar == True:\n",
        "\n",
        "    n = int(input(\"Dame un número entero positivo \"))\n",
        "\n",
        "    if n > 0:\n",
        "        print(\"Es correcto\")\n",
        "\n",
        "        for i in range(10):\n",
        "            print( n, \"por\", i+1, \"es igual a\", n*(i+1))\n",
        "    comprobar == False:\n",
        "    else:\n",
        "        print(\"El número ingresado no es correcto\")\n",
        "print(\"FIN DEL PROGRAMA\") "
      ],
      "execution_count": null,
      "outputs": []
    },
    {
      "cell_type": "code",
      "metadata": {
        "id": "YTBxQaTkHTYm"
      },
      "source": [
        "comprobar = True\n",
        "\n",
        "while comprobar == True:\n",
        "\n",
        "    n = int(input(\"Dame un número entero positivo \"))\n",
        "\n",
        "    if n > 0:\n",
        "        i = 0 #Se inicializa el valor en 1\n",
        "\n",
        "        while i < 11:\n",
        "            print(n, \"por\", i , \"es igual a \", n*i)\n",
        "\n",
        "            i += 1 # i va a ser igual a la misma variable + 1\n",
        "\n",
        "            comprobar == False\n",
        "    else:\n",
        "        print(\"El número ingresado no es correcto. Intente de nuevo\")\n",
        "print(\"FIN DEL PROGRAMA\") "
      ],
      "execution_count": null,
      "outputs": []
    },
    {
      "cell_type": "code",
      "metadata": {
        "id": "WwRgr_OgKdlG"
      },
      "source": [
        "comprobar = True\n",
        "while comprobar == True:\n",
        "\n",
        "    n = int(input(\"Ingrese un número entero positivo: \"))\n",
        "    if n > 0:\n",
        "        comprobar == False\n",
        "        resultado = 0\n",
        "        for i in range(1, n+1):\n",
        "           resultado +=(1/i)\n",
        "           print(\"El resultado de la serie es:\", resultado)\n",
        "    else:\n",
        "      print(\"El número ingresado no es correcto, intente de nuevo\")\n",
        "print(\"FIN DEL PROGRAMA\") "
      ],
      "execution_count": null,
      "outputs": []
    }
  ]
}